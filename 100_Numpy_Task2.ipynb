{
  "cells": [
    {
      "cell_type": "markdown",
      "metadata": {
        "id": "rgf5x_3EjI1h"
      },
      "source": [
        "# Numpy\n",
        "\n"
      ]
    },
    {
      "cell_type": "markdown",
      "metadata": {
        "id": "gQXUbixtjI1p"
      },
      "source": [
        "#### 1. Import the numpy package under the name `np` (★☆☆) \n",
        "(**hint**: import … as …)"
      ]
    },
    {
      "cell_type": "code",
      "execution_count": 1,
      "metadata": {
        "collapsed": true,
        "id": "y0kRzhDWjI1q"
      },
      "outputs": [],
      "source": [
        "#1\n",
        "import numpy as np"
      ]
    },
    {
      "cell_type": "markdown",
      "metadata": {
        "id": "31uM002UjI1s"
      },
      "source": [
        "#### 2. Print the numpy version and the configuration (★☆☆) \n",
        "(**hint**: np.\\_\\_version\\_\\_, np.show\\_config)"
      ]
    },
    {
      "cell_type": "code",
      "execution_count": 2,
      "metadata": {
        "id": "vycgM9UVjI1t",
        "colab": {
          "base_uri": "https://localhost:8080/"
        },
        "outputId": "ee8d37ff-f92a-4d48-af92-421f1633decd"
      },
      "outputs": [
        {
          "output_type": "stream",
          "name": "stdout",
          "text": [
            "1.21.5\n",
            "blas_mkl_info:\n",
            "  NOT AVAILABLE\n",
            "blis_info:\n",
            "  NOT AVAILABLE\n",
            "openblas_info:\n",
            "    libraries = ['openblas', 'openblas']\n",
            "    library_dirs = ['/usr/local/lib']\n",
            "    language = c\n",
            "    define_macros = [('HAVE_CBLAS', None)]\n",
            "    runtime_library_dirs = ['/usr/local/lib']\n",
            "blas_opt_info:\n",
            "    libraries = ['openblas', 'openblas']\n",
            "    library_dirs = ['/usr/local/lib']\n",
            "    language = c\n",
            "    define_macros = [('HAVE_CBLAS', None)]\n",
            "    runtime_library_dirs = ['/usr/local/lib']\n",
            "lapack_mkl_info:\n",
            "  NOT AVAILABLE\n",
            "openblas_lapack_info:\n",
            "    libraries = ['openblas', 'openblas']\n",
            "    library_dirs = ['/usr/local/lib']\n",
            "    language = c\n",
            "    define_macros = [('HAVE_CBLAS', None)]\n",
            "    runtime_library_dirs = ['/usr/local/lib']\n",
            "lapack_opt_info:\n",
            "    libraries = ['openblas', 'openblas']\n",
            "    library_dirs = ['/usr/local/lib']\n",
            "    language = c\n",
            "    define_macros = [('HAVE_CBLAS', None)]\n",
            "    runtime_library_dirs = ['/usr/local/lib']\n",
            "Supported SIMD extensions in this NumPy install:\n",
            "    baseline = SSE,SSE2,SSE3\n",
            "    found = SSSE3,SSE41,POPCNT,SSE42,AVX,F16C,FMA3,AVX2\n",
            "    not found = AVX512F,AVX512CD,AVX512_KNL,AVX512_KNM,AVX512_SKX,AVX512_CLX,AVX512_CNL,AVX512_ICL\n",
            "None\n"
          ]
        }
      ],
      "source": [
        "#2\n",
        "print(np.__version__)\n",
        "print(np.show_config())"
      ]
    },
    {
      "cell_type": "markdown",
      "metadata": {
        "id": "8UMy6mBvjI1t"
      },
      "source": [
        "#### 3. Create a null vector of size 10 (★☆☆) \n",
        "(**hint**: np.zeros)"
      ]
    },
    {
      "cell_type": "code",
      "execution_count": 3,
      "metadata": {
        "id": "4QYLAL4ejI1u",
        "colab": {
          "base_uri": "https://localhost:8080/"
        },
        "outputId": "3e097c33-2bc6-4b11-e235-32c494f41f06"
      },
      "outputs": [
        {
          "output_type": "stream",
          "name": "stdout",
          "text": [
            "[0. 0. 0. 0. 0. 0. 0. 0. 0. 0.]\n"
          ]
        }
      ],
      "source": [
        "#3\n",
        "import numpy as np \n",
        "x= np.zeros(10)\n",
        "print(x)"
      ]
    },
    {
      "cell_type": "markdown",
      "metadata": {
        "id": "xGxlK0oHjI1v"
      },
      "source": [
        "#### 4.  How to find the memory size of any array (★☆☆) \n",
        "(**hint**: size, itemsize)"
      ]
    },
    {
      "cell_type": "code",
      "execution_count": 4,
      "metadata": {
        "id": "gMAaHwuxjI1w",
        "colab": {
          "base_uri": "https://localhost:8080/"
        },
        "outputId": "9fe41ad6-0f05-49e5-f5d3-c13cdd5e3d9e"
      },
      "outputs": [
        {
          "output_type": "stream",
          "name": "stdout",
          "text": [
            "800 bytes\n"
          ]
        }
      ],
      "source": [
        "#4\n",
        "Z = np.zeros((10,10))\n",
        "print(\"%d bytes\" % (Z.size * Z.itemsize))"
      ]
    },
    {
      "cell_type": "markdown",
      "metadata": {
        "id": "RjR86WvfjI1x"
      },
      "source": [
        "#### 5.  How to get the documentation of the numpy add function from the command line? (★☆☆) \n",
        "(**hint**: np.info)"
      ]
    },
    {
      "cell_type": "code",
      "execution_count": 5,
      "metadata": {
        "collapsed": true,
        "id": "B_d94J-djI1x",
        "colab": {
          "base_uri": "https://localhost:8080/"
        },
        "outputId": "8f2a2d90-3f2f-4a51-cb7e-bbfdbc2c122a"
      },
      "outputs": [
        {
          "output_type": "stream",
          "name": "stdout",
          "text": [
            "<function info at 0x7fc72dde4a70>\n",
            "<ufunc 'add'>\n",
            "30\n"
          ]
        }
      ],
      "source": [
        "#5\n",
        "import numpy as np\n",
        "print(np.info)\n",
        "print(np.add)\n",
        "#example\n",
        "input1 = 10\n",
        "input2 = 20\n",
        "output = np.add(input1,input2)\n",
        "print(output)"
      ]
    },
    {
      "cell_type": "markdown",
      "metadata": {
        "id": "SanSLDdFjI1y"
      },
      "source": [
        "#### 6.  Create a null vector of size 10 but the fifth value which is 1 (★☆☆) \n",
        "(**hint**: array\\[4\\])"
      ]
    },
    {
      "cell_type": "code",
      "execution_count": 6,
      "metadata": {
        "id": "_VnUdmENjI1y"
      },
      "outputs": [],
      "source": [
        "#6\n",
        "x=np.zeros(10)\n",
        "x[4]=1"
      ]
    },
    {
      "cell_type": "markdown",
      "metadata": {
        "id": "ykPZtt9sjI1y"
      },
      "source": [
        "#### 7.  Create a vector with values ranging from 10 to 49 (★☆☆) \n",
        "(**hint**: np.arange)"
      ]
    },
    {
      "cell_type": "code",
      "execution_count": 8,
      "metadata": {
        "id": "bgf9ppmFjI1z",
        "colab": {
          "base_uri": "https://localhost:8080/"
        },
        "outputId": "4e2f611b-7bd8-4911-d719-62ea5f2dba3a"
      },
      "outputs": [
        {
          "output_type": "stream",
          "name": "stdout",
          "text": [
            "[10 11 12 13 14 15 16 17 18 19 20 21 22 23 24 25 26 27 28 29 30 31 32 33\n",
            " 34 35 36 37 38 39 40 41 42 43 44 45 46 47 48 49]\n"
          ]
        }
      ],
      "source": [
        "#7\n",
        "import numpy as np \n",
        "q = np.arange(10,50)\n",
        "print(q)"
      ]
    },
    {
      "cell_type": "markdown",
      "metadata": {
        "id": "SI5go0SojI1z"
      },
      "source": [
        "#### 8.  Reverse a vector (first element becomes last) (★☆☆) \n",
        "(**hint**: array\\[::-1\\])"
      ]
    },
    {
      "cell_type": "code",
      "execution_count": 9,
      "metadata": {
        "id": "h-efKlXrjI1z",
        "colab": {
          "base_uri": "https://localhost:8080/"
        },
        "outputId": "7d017c20-c534-4f92-a1fc-f16ee0b5b52f"
      },
      "outputs": [
        {
          "output_type": "stream",
          "name": "stdout",
          "text": [
            "initial array [1 2 3 6 4 5]\n",
            "type of array <class 'numpy.ndarray'>\n",
            "final array [5 4 6 3 2 1]\n"
          ]
        }
      ],
      "source": [
        "#8\n",
        "\n",
        "import numpy as np\n",
        "array = np.array([1, 2, 3, 6, 4, 5])\n",
        "print(\"initial array\", str(array))\n",
        "print(\"type of array\", type(array))\n",
        "res = array[::-1]\n",
        "print(\"final array\", str(res))"
      ]
    },
    {
      "cell_type": "markdown",
      "metadata": {
        "id": "486qodNwjI10"
      },
      "source": [
        "#### 9.  Create a 3x3 matrix with values ranging from 0 to 8 (★☆☆) \n",
        "(**hint**: reshape)"
      ]
    },
    {
      "cell_type": "code",
      "execution_count": 10,
      "metadata": {
        "id": "dhzaM6ZwjI10",
        "colab": {
          "base_uri": "https://localhost:8080/"
        },
        "outputId": "dd6124b3-3ac5-43f7-b5aa-02b18808a882"
      },
      "outputs": [
        {
          "output_type": "stream",
          "name": "stdout",
          "text": [
            "[[0 1 2]\n",
            " [3 4 5]\n",
            " [6 7 8]]\n"
          ]
        }
      ],
      "source": [
        "#9\n",
        "import numpy as np\n",
        "x = np.arange(0, 9).reshape(3,3)\n",
        "print(x)"
      ]
    },
    {
      "cell_type": "markdown",
      "metadata": {
        "id": "Ekwct8RPjI10"
      },
      "source": [
        "#### 10. Find indices of non-zero elements from \\[1,2,0,0,4,0\\] (★☆☆) \n",
        "(**hint**: np.nonzero)"
      ]
    },
    {
      "cell_type": "code",
      "execution_count": 11,
      "metadata": {
        "id": "IJHD1pXmjI10",
        "colab": {
          "base_uri": "https://localhost:8080/"
        },
        "outputId": "260be556-ec87-4db5-8b90-e021a5ff8516"
      },
      "outputs": [
        {
          "output_type": "execute_result",
          "data": {
            "text/plain": [
              "(array([0, 1, 4]),)"
            ]
          },
          "metadata": {},
          "execution_count": 11
        }
      ],
      "source": [
        "#10\n",
        "import numpy as np\n",
        "x = np.array([1,2,0,0,4,0])\n",
        "np.nonzero(x)"
      ]
    },
    {
      "cell_type": "markdown",
      "metadata": {
        "id": "ihPnvoqPjI11"
      },
      "source": [
        "#### 11. Create a 3x3 identity matrix (★☆☆) \n",
        "(**hint**: np.eye)"
      ]
    },
    {
      "cell_type": "code",
      "execution_count": 12,
      "metadata": {
        "id": "KMM6w2BtjI11",
        "colab": {
          "base_uri": "https://localhost:8080/"
        },
        "outputId": "a1ee348a-67c5-4a1c-f855-99fed93777cb"
      },
      "outputs": [
        {
          "output_type": "stream",
          "name": "stdout",
          "text": [
            "[[1. 0. 0.]\n",
            " [0. 1. 0.]\n",
            " [0. 0. 1.]]\n"
          ]
        }
      ],
      "source": [
        "#11\n",
        "import numpy as np\n",
        "x = np.eye(3)\n",
        "print(x)"
      ]
    },
    {
      "cell_type": "markdown",
      "metadata": {
        "id": "2wSiRUJxjI11"
      },
      "source": [
        "#### 12. Create a 3x3x3 array with random values (★☆☆) \n",
        "(**hint**: np.random.random)"
      ]
    },
    {
      "cell_type": "code",
      "execution_count": 13,
      "metadata": {
        "collapsed": true,
        "id": "UewmmoutjI11",
        "colab": {
          "base_uri": "https://localhost:8080/"
        },
        "outputId": "0e44edf1-d1a4-4c15-d4c7-4a94f59bbfac"
      },
      "outputs": [
        {
          "output_type": "stream",
          "name": "stdout",
          "text": [
            "[[[0.70658804 0.02393218 0.99004321]\n",
            "  [0.96970166 0.57602976 0.08838435]\n",
            "  [0.32749228 0.57627817 0.23254761]]\n",
            "\n",
            " [[0.05483632 0.098296   0.25306949]\n",
            "  [0.47954803 0.31878213 0.96929608]\n",
            "  [0.058454   0.96126901 0.33522711]]\n",
            "\n",
            " [[0.09829212 0.36470658 0.43382726]\n",
            "  [0.93277075 0.96696052 0.43209194]\n",
            "  [0.12276471 0.36381732 0.53254145]]]\n"
          ]
        }
      ],
      "source": [
        "#12\n",
        "import numpy as np\n",
        "x = np.random.random((3,3,3))\n",
        "print(x)\n"
      ]
    },
    {
      "cell_type": "markdown",
      "metadata": {
        "id": "m2nvRcq1jI11"
      },
      "source": [
        "#### 13. Create a 10x10 array with random values and find the minimum and maximum values (★☆☆) \n",
        "(**hint**: min, max)"
      ]
    },
    {
      "cell_type": "code",
      "execution_count": 14,
      "metadata": {
        "id": "_Aa9w87EjI11",
        "colab": {
          "base_uri": "https://localhost:8080/"
        },
        "outputId": "6f861fc1-76f1-40d1-ed42-e6ba90ccec9f"
      },
      "outputs": [
        {
          "output_type": "stream",
          "name": "stdout",
          "text": [
            "[[7 1 4 8 7 7 0 1 1 9]\n",
            " [8 7 2 5 5 3 2 7 5 2]\n",
            " [9 4 7 3 2 0 2 4 6 1]\n",
            " [2 4 5 8 5 9 3 8 6 1]\n",
            " [2 6 9 2 7 0 7 6 4 1]\n",
            " [1 7 8 7 9 0 1 3 9 0]\n",
            " [4 0 0 5 5 4 2 5 4 0]\n",
            " [5 2 8 5 0 7 6 4 1 4]\n",
            " [0 4 3 4 7 4 0 8 6 3]\n",
            " [9 4 7 2 0 8 9 9 8 4]]\n",
            "0\n",
            "9\n"
          ]
        }
      ],
      "source": [
        "#13\n",
        "import numpy as np \n",
        "array = np.random.randint(10,size=(10,10))\n",
        "print(array)\n",
        "print(np.min(array))\n",
        "print(np.max(array))"
      ]
    },
    {
      "cell_type": "code",
      "source": [
        "#13 another way \n",
        "Z = np.random.random((10,10))\n",
        "Zmin, Zmax = Z.min(), Z.max()\n",
        "print(Zmin, Zmax)"
      ],
      "metadata": {
        "colab": {
          "base_uri": "https://localhost:8080/"
        },
        "id": "n8CmzZIJkfuN",
        "outputId": "49b2abd1-fd57-41ae-a4ce-4fba29b323ad"
      },
      "execution_count": 15,
      "outputs": [
        {
          "output_type": "stream",
          "name": "stdout",
          "text": [
            "0.04757993177681641 0.9927631464874423\n"
          ]
        }
      ]
    },
    {
      "cell_type": "markdown",
      "metadata": {
        "id": "kxE_EeGMjI11"
      },
      "source": [
        "#### 14. Create a random vector of size 30 and find the mean value (★☆☆) \n",
        "(**hint**: mean)"
      ]
    },
    {
      "cell_type": "code",
      "execution_count": 16,
      "metadata": {
        "id": "MZ-3t4OZjI12",
        "colab": {
          "base_uri": "https://localhost:8080/"
        },
        "outputId": "82254409-3894-4b18-81f3-83ad55089234"
      },
      "outputs": [
        {
          "output_type": "stream",
          "name": "stdout",
          "text": [
            "0.48319661756624993\n"
          ]
        }
      ],
      "source": [
        "#14 \n",
        "import numpy as np\n",
        "a = np.random.random(30)\n",
        "print(np.mean(a))\n"
      ]
    },
    {
      "cell_type": "markdown",
      "metadata": {
        "id": "ioQUr9xijI12"
      },
      "source": [
        "#### 15. Create a 2d array with 1 on the border and 0 inside (★☆☆) \n",
        "(**hint**: array\\[1:-1, 1:-1\\])"
      ]
    },
    {
      "cell_type": "code",
      "execution_count": 18,
      "metadata": {
        "id": "WX-RsWZLjI12",
        "colab": {
          "base_uri": "https://localhost:8080/"
        },
        "outputId": "4e8268c5-6db3-436e-e25a-aaa1092f94d2"
      },
      "outputs": [
        {
          "output_type": "stream",
          "name": "stdout",
          "text": [
            "Original array:\n",
            "[[1. 1. 1. 1. 1.]\n",
            " [1. 1. 1. 1. 1.]\n",
            " [1. 1. 1. 1. 1.]\n",
            " [1. 1. 1. 1. 1.]\n",
            " [1. 1. 1. 1. 1.]]\n",
            "\n",
            " 1 On The Border And 0 Inside\n",
            "[[1. 1. 1. 1. 1.]\n",
            " [1. 0. 0. 0. 1.]\n",
            " [1. 0. 0. 0. 1.]\n",
            " [1. 0. 0. 0. 1.]\n",
            " [1. 1. 1. 1. 1.]]\n"
          ]
        }
      ],
      "source": [
        "#15\n",
        "import numpy as np\n",
        "x = np.ones((5,5))\n",
        "print(\"Original array:\")\n",
        "print(x)\n",
        "print(\"\\n 1 On The Border And 0 Inside\")\n",
        "x[1:-1,1:-1] = 0\n",
        "print(x)"
      ]
    },
    {
      "cell_type": "markdown",
      "metadata": {
        "id": "_HmWh06CjI12"
      },
      "source": [
        "#### 16. How to add a border (filled with 0's) around an existing array? (★☆☆) \n",
        "(**hint**: np.pad)"
      ]
    },
    {
      "cell_type": "code",
      "execution_count": 17,
      "metadata": {
        "id": "00u73Gv_jI12",
        "colab": {
          "base_uri": "https://localhost:8080/"
        },
        "outputId": "dc5eebfe-0a0b-4c49-8f3c-e590d6fc5f95"
      },
      "outputs": [
        {
          "output_type": "stream",
          "name": "stdout",
          "text": [
            "Original array:\n",
            "[[1. 1.]\n",
            " [1. 1.]]\n",
            "\n",
            " 0 on the border and 1 inside\n",
            "[[0. 0. 0. 0.]\n",
            " [0. 1. 1. 0.]\n",
            " [0. 1. 1. 0.]\n",
            " [0. 0. 0. 0.]]\n"
          ]
        }
      ],
      "source": [
        "#16\n",
        "import numpy as np\n",
        "x = np.ones((2,2))\n",
        "print(\"Original array:\")\n",
        "print(x)\n",
        "print(\"\\n 0 on the border and 1 inside\")\n",
        "x = np.pad(x, pad_width=1, mode='constant', constant_values=0)\n",
        "print(x)"
      ]
    },
    {
      "cell_type": "markdown",
      "metadata": {
        "id": "7yMBR3ihjI12"
      },
      "source": [
        "#### 17. What is the result of the following expression? (★☆☆) \n",
        "(**hint**: NaN = not a number, inf = infinity)"
      ]
    },
    {
      "cell_type": "markdown",
      "metadata": {
        "id": "qHIncGEBjI12"
      },
      "source": [
        "```python\n",
        "0 * np.nan\n",
        "np.nan == np.nan\n",
        "np.inf > np.nan\n",
        "np.nan - np.nan\n",
        "0.3 == 3 * 0.1\n",
        "```"
      ]
    },
    {
      "cell_type": "code",
      "execution_count": 19,
      "metadata": {
        "id": "bs-QfAg4jI13",
        "colab": {
          "base_uri": "https://localhost:8080/"
        },
        "outputId": "2740cbfd-833d-4df1-a575-dbcdfa415686"
      },
      "outputs": [
        {
          "output_type": "stream",
          "name": "stdout",
          "text": [
            "nan\n",
            "False\n",
            "False\n",
            "nan\n",
            "True\n",
            "False\n"
          ]
        }
      ],
      "source": [
        "#17\n",
        "print(0 * np.nan)\n",
        "print(np.nan == np.nan)\n",
        "print(np.inf > np.nan)\n",
        "print(np.nan - np.nan)\n",
        "print(np.nan in set([np.nan]))\n",
        "print(0.3 == 3 * 0.1)\n"
      ]
    },
    {
      "cell_type": "markdown",
      "metadata": {
        "id": "eUJkHVEKjI13"
      },
      "source": [
        "#### 18. Create a 5x5 matrix with values 1,2,3,4 just below the diagonal (★☆☆) \n",
        "(**hint**: np.diag)"
      ]
    },
    {
      "cell_type": "code",
      "execution_count": 20,
      "metadata": {
        "id": "GTjMSIhtjI13",
        "colab": {
          "base_uri": "https://localhost:8080/"
        },
        "outputId": "2da42c3e-bc72-4fa7-bda5-06125f38fcaf"
      },
      "outputs": [
        {
          "output_type": "stream",
          "name": "stdout",
          "text": [
            "[[1 0 0 0]\n",
            " [0 2 0 0]\n",
            " [0 0 3 0]\n",
            " [0 0 0 4]]\n"
          ]
        }
      ],
      "source": [
        "#18\n",
        "import numpy as np\n",
        "x = np.diag([1, 2, 3, 4])\n",
        "print(x)"
      ]
    },
    {
      "cell_type": "code",
      "source": [
        "#18 another way\n",
        "y = np.diag(1+np.arange(4),k=-1)\n",
        "print(y)"
      ],
      "metadata": {
        "colab": {
          "base_uri": "https://localhost:8080/"
        },
        "id": "skvWy5vNk8H7",
        "outputId": "3dd3feaa-b89c-4e09-8e1d-4581827e78a7"
      },
      "execution_count": 21,
      "outputs": [
        {
          "output_type": "stream",
          "name": "stdout",
          "text": [
            "[[0 0 0 0 0]\n",
            " [1 0 0 0 0]\n",
            " [0 2 0 0 0]\n",
            " [0 0 3 0 0]\n",
            " [0 0 0 4 0]]\n"
          ]
        }
      ]
    },
    {
      "cell_type": "markdown",
      "metadata": {
        "id": "MfzSfI8cjI13"
      },
      "source": [
        "#### 19. Create a 8x8 matrix and fill it with a checkerboard pattern (★☆☆) \n",
        "(**hint**: array\\[::2\\])"
      ]
    },
    {
      "cell_type": "code",
      "execution_count": 22,
      "metadata": {
        "id": "XKlI4hynjI13",
        "colab": {
          "base_uri": "https://localhost:8080/"
        },
        "outputId": "df2a1ad0-4074-410c-e13b-783801cd784b"
      },
      "outputs": [
        {
          "output_type": "stream",
          "name": "stdout",
          "text": [
            "Checkerboard Pattern:\n",
            "[[0 1 0 1 0 1 0 1]\n",
            " [1 0 1 0 1 0 1 0]\n",
            " [0 1 0 1 0 1 0 1]\n",
            " [1 0 1 0 1 0 1 0]\n",
            " [0 1 0 1 0 1 0 1]\n",
            " [1 0 1 0 1 0 1 0]\n",
            " [0 1 0 1 0 1 0 1]\n",
            " [1 0 1 0 1 0 1 0]]\n"
          ]
        }
      ],
      "source": [
        "#19\n",
        "import numpy as np\n",
        "x = np.zeros((8,8),dtype=int)\n",
        "print(\"Checkerboard Pattern:\")\n",
        "x[1::2,::2] = 1\n",
        "x[::2,1::2] = 1\n",
        "print(x)"
      ]
    },
    {
      "cell_type": "markdown",
      "metadata": {
        "id": "nhxgiqV0jI13"
      },
      "source": [
        "#### 20. Consider a (6,7,8) shape array, what is the index (x,y,z) of the 100th element? \n",
        "(**hint**: np.unravel_index)"
      ]
    },
    {
      "cell_type": "code",
      "execution_count": 23,
      "metadata": {
        "id": "aWMRPbp5jI14",
        "colab": {
          "base_uri": "https://localhost:8080/"
        },
        "outputId": "d0f04569-918c-4f3e-c914-a2b919463e44"
      },
      "outputs": [
        {
          "output_type": "stream",
          "name": "stdout",
          "text": [
            "(1, 5, 3)\n"
          ]
        }
      ],
      "source": [
        "#20\n",
        "print(np.unravel_index(99,(6,7,8)))"
      ]
    },
    {
      "cell_type": "markdown",
      "metadata": {
        "id": "UStGtO2UjI14"
      },
      "source": [
        "#### 21. Create a checkerboard 8x8 matrix using the tile function (★☆☆) \n",
        "(**hint**: np.tile)"
      ]
    },
    {
      "cell_type": "code",
      "execution_count": 24,
      "metadata": {
        "id": "5AY1ZcGXjI14",
        "colab": {
          "base_uri": "https://localhost:8080/"
        },
        "outputId": "18942d63-aefc-4f15-88fc-4f273634dc7a"
      },
      "outputs": [
        {
          "output_type": "stream",
          "name": "stdout",
          "text": [
            "[[0 1 0 1 0 1 0 1]\n",
            " [1 0 1 0 1 0 1 0]\n",
            " [0 1 0 1 0 1 0 1]\n",
            " [1 0 1 0 1 0 1 0]\n",
            " [0 1 0 1 0 1 0 1]\n",
            " [1 0 1 0 1 0 1 0]\n",
            " [0 1 0 1 0 1 0 1]\n",
            " [1 0 1 0 1 0 1 0]]\n"
          ]
        }
      ],
      "source": [
        "#21\n",
        "import numpy as np\n",
        "y = np.tile( np.array([[0,1],[1,0]]), (4,4))\n",
        "print(y)"
      ]
    },
    {
      "cell_type": "markdown",
      "metadata": {
        "id": "YMTef__MjI14"
      },
      "source": [
        "#### 22. Normalize a 5x5 random matrix (★☆☆) \n",
        "(**hint**: (x - min) / (max - min))"
      ]
    },
    {
      "cell_type": "code",
      "execution_count": 25,
      "metadata": {
        "id": "bpHGkhrajI14",
        "colab": {
          "base_uri": "https://localhost:8080/"
        },
        "outputId": "f837990b-2a1a-444a-d03a-d7b3e0fff859"
      },
      "outputs": [
        {
          "output_type": "stream",
          "name": "stdout",
          "text": [
            "After normalization\n",
            "[[0.         0.09581336 0.93316436]\n",
            " [0.47602698 0.13914674 0.37527716]\n",
            " [0.08507027 1.         0.99076808]]\n"
          ]
        }
      ],
      "source": [
        "#22\n",
        "import numpy as np\n",
        "x= np.random.random((3,3))\n",
        "xmax, xmin = x.max(), x.min()\n",
        "x = (x - xmin)/(xmax - xmin)\n",
        "print(\"After normalization\")\n",
        "print(x)"
      ]
    },
    {
      "cell_type": "markdown",
      "metadata": {
        "id": "oO_IG4B1jI14"
      },
      "source": [
        "#### 23. Create a custom dtype that describes a color as four unsigned bytes (RGBA) (★☆☆) \n",
        "(**hint**: np.dtype)"
      ]
    },
    {
      "cell_type": "code",
      "execution_count": 29,
      "metadata": {
        "collapsed": true,
        "id": "VNyOdUKijI14",
        "colab": {
          "base_uri": "https://localhost:8080/"
        },
        "outputId": "9321d5ed-e588-4779-c302-01d03dc1175c"
      },
      "outputs": [
        {
          "output_type": "stream",
          "name": "stdout",
          "text": [
            "[('r', 'u1'), ('g', 'u1'), ('b', 'u1'), ('a', 'u1')]\n"
          ]
        }
      ],
      "source": [
        "#23\n",
        "color = np.dtype([(\"r\", np.ubyte),\n",
        "                  (\"g\", np.ubyte),\n",
        "                  (\"b\", np.ubyte),\n",
        "                  (\"a\", np.ubyte)])\n",
        "print(color)"
      ]
    },
    {
      "cell_type": "markdown",
      "metadata": {
        "id": "oE-ewnSmjI14"
      },
      "source": [
        "#### 24. Multiply a 5x3 matrix by a 3x2 matrix (real matrix product) (★☆☆) \n",
        "(**hint**: np.dot | @)"
      ]
    },
    {
      "cell_type": "code",
      "execution_count": 30,
      "metadata": {
        "id": "pTCoXmqWjI15",
        "colab": {
          "base_uri": "https://localhost:8080/"
        },
        "outputId": "478fc543-70e5-4dd5-d73c-c5acd1109f2c"
      },
      "outputs": [
        {
          "output_type": "stream",
          "name": "stdout",
          "text": [
            "First Array:\n",
            "[[0.08616887 0.18319684 0.80469895]\n",
            " [0.46970671 0.52970028 0.28949421]\n",
            " [0.03360952 0.56558838 0.25215222]\n",
            " [0.17094098 0.04670982 0.50988712]\n",
            " [0.99986138 0.66407001 0.48378546]]\n",
            "Second Array:\n",
            "[[0.61708766 0.64439351]\n",
            " [0.62294343 0.54795442]\n",
            " [0.18692193 0.34613102]]\n",
            "Dot product of two arrays:\n",
            "[[0.31771089 0.43444145]\n",
            " [0.67393634 0.69313049]\n",
            " [0.42020236 0.41885211]\n",
            " [0.22989223 0.31223585]\n",
            " [1.12111029 1.17563744]]\n"
          ]
        }
      ],
      "source": [
        "import numpy as np\n",
        "a = np.random.random((5,3))\n",
        "print(\"First Array:\")\n",
        "print(a)\n",
        "b = np.random.random((3,2))\n",
        "print(\"Second Array:\")\n",
        "print(b)\n",
        "c = np.dot(a, b)\n",
        "print(\"Dot product of two arrays:\")\n",
        "print(c)"
      ]
    },
    {
      "cell_type": "markdown",
      "metadata": {
        "id": "uQzCIu0-jI15"
      },
      "source": [
        "#### 25. Given a 1D array, negate all elements which are between 3 and 8, in place. (★☆☆) \n",
        "(**hint**: >, <=)"
      ]
    },
    {
      "cell_type": "code",
      "execution_count": 31,
      "metadata": {
        "id": "6AfQdM97jI15",
        "colab": {
          "base_uri": "https://localhost:8080/"
        },
        "outputId": "aaecc091-9c0d-4430-a1a8-acf7f19100fa"
      },
      "outputs": [
        {
          "output_type": "stream",
          "name": "stdout",
          "text": [
            "[ 0  1  2  3 -4 -5 -6 -7  8  9 10]\n"
          ]
        }
      ],
      "source": [
        "x = np.arange(11)\n",
        "x[(3 < x) & (x < 8)] *= -1\n",
        "print(x)"
      ]
    },
    {
      "cell_type": "markdown",
      "metadata": {
        "id": "5Vk1WCAljI15"
      },
      "source": [
        "#### 26. What is the output of the following script? (★☆☆) \n",
        "(**hint**: np.sum)"
      ]
    },
    {
      "cell_type": "markdown",
      "metadata": {
        "id": "nZV5nA_MjI15"
      },
      "source": [
        "```python\n",
        "# Author: Jake VanderPlas\n",
        "\n",
        "print(sum(range(5),-1))\n",
        "from numpy import *\n",
        "print(sum(range(5),-1))\n",
        "```"
      ]
    },
    {
      "cell_type": "code",
      "execution_count": 32,
      "metadata": {
        "id": "LmF-DPIEjI15",
        "colab": {
          "base_uri": "https://localhost:8080/"
        },
        "outputId": "d9464bda-2276-4954-c269-c2d7ac187eeb"
      },
      "outputs": [
        {
          "output_type": "stream",
          "name": "stdout",
          "text": [
            "10\n",
            "10\n"
          ]
        }
      ],
      "source": [
        "\n",
        "print(sum(range(5),-1))\n",
        "from numpy import *\n",
        "print(sum(range(5),-1))"
      ]
    },
    {
      "cell_type": "markdown",
      "metadata": {
        "id": "ompM1UMgjI15"
      },
      "source": [
        "#### 27. Consider an integer vector Z, which of these expressions are legal? (★☆☆)"
      ]
    },
    {
      "cell_type": "markdown",
      "metadata": {
        "id": "AxeHwK_zjI16"
      },
      "source": [
        "```python\n",
        "Z**Z\n",
        "2 << Z >> 2\n",
        "Z <- Z\n",
        "1j*Z\n",
        "Z/1/1\n",
        "Z<Z>Z\n",
        "```"
      ]
    },
    {
      "cell_type": "code",
      "execution_count": null,
      "metadata": {
        "id": "0JhyPxl4jI16"
      },
      "outputs": [],
      "source": [
        "Z**Z\n",
        "Z <- Z\n",
        "1j*Z\n",
        "Z/1/1"
      ]
    },
    {
      "cell_type": "markdown",
      "metadata": {
        "id": "WYEYFtqrjI16"
      },
      "source": [
        "#### 28. What are the result of the following expressions?"
      ]
    },
    {
      "cell_type": "markdown",
      "metadata": {
        "id": "bVfY6zlzjI16"
      },
      "source": [
        "```python\n",
        "np.array(0) / np.array(0)\n",
        "np.array(0) // np.array(0)\n",
        "np.array([np.nan]).astype(int).astype(float)\n",
        "```"
      ]
    },
    {
      "cell_type": "code",
      "execution_count": 42,
      "metadata": {
        "id": "EYuCH9hdjI16",
        "colab": {
          "base_uri": "https://localhost:8080/"
        },
        "outputId": "cff6c40a-62d5-4832-a594-4920a9f40e73"
      },
      "outputs": [
        {
          "output_type": "stream",
          "name": "stdout",
          "text": [
            "nan\n",
            "0\n",
            "[-9.22337204e+18]\n"
          ]
        },
        {
          "output_type": "stream",
          "name": "stderr",
          "text": [
            "/usr/local/lib/python3.7/dist-packages/ipykernel_launcher.py:1: RuntimeWarning: invalid value encountered in true_divide\n",
            "  \"\"\"Entry point for launching an IPython kernel.\n",
            "/usr/local/lib/python3.7/dist-packages/ipykernel_launcher.py:2: RuntimeWarning: divide by zero encountered in floor_divide\n",
            "  \n"
          ]
        }
      ],
      "source": [
        "print(np.array(0) / np.array(0))\n",
        "print(np.array(0) // np.array(0))\n",
        "print(np.array([np.nan]).astype(int).astype(float))"
      ]
    },
    {
      "cell_type": "markdown",
      "metadata": {
        "id": "3W3-jWYRjI16"
      },
      "source": [
        "#### 29. How to round away from zero a float array ? (★☆☆) \n",
        "(**hint**: np.uniform, np.copysign, np.ceil, np.abs)"
      ]
    },
    {
      "cell_type": "code",
      "execution_count": 43,
      "metadata": {
        "id": "uoZs54GNjI16",
        "colab": {
          "base_uri": "https://localhost:8080/"
        },
        "outputId": "49cc4e8d-4ba6-490d-a214-607186c9562b"
      },
      "outputs": [
        {
          "output_type": "stream",
          "name": "stdout",
          "text": [
            "[ 7.  2. 10.  9.  4.  4. -4.  1.  2.  7.]\n"
          ]
        }
      ],
      "source": [
        "import numpy as np\n",
        "x = np.random.uniform(-10,+10,10)\n",
        "print(np.copysign(np.ceil(np.abs(x)), x))"
      ]
    },
    {
      "cell_type": "markdown",
      "metadata": {
        "id": "S-2Vk_-TjI16"
      },
      "source": [
        "#### 30. How to find common values between two arrays? (★☆☆) \n",
        "(**hint**: np.intersect1d)"
      ]
    },
    {
      "cell_type": "code",
      "execution_count": 44,
      "metadata": {
        "id": "Ncj4OphRjI17",
        "colab": {
          "base_uri": "https://localhost:8080/"
        },
        "outputId": "fd64dd8f-25ba-4911-cfea-62d0b631f377"
      },
      "outputs": [
        {
          "output_type": "stream",
          "name": "stdout",
          "text": [
            "[0 2 4]\n"
          ]
        }
      ],
      "source": [
        "x = np.array([0, 1, 2, 3, 4]) \n",
        "y = np.array([0, 2, 4])\n",
        "print(np.intersect1d(x, y)) "
      ]
    },
    {
      "cell_type": "markdown",
      "metadata": {
        "id": "gkUWK-mvjI17"
      },
      "source": [
        "#### 31. How to ignore all numpy warnings (not recommended)? (★☆☆) \n",
        "(**hint**: np.seterr, np.errstate)"
      ]
    },
    {
      "cell_type": "code",
      "execution_count": 45,
      "metadata": {
        "id": "-kRp6_1YjI17",
        "colab": {
          "base_uri": "https://localhost:8080/"
        },
        "outputId": "ccf9bf75-a4d7-448b-86db-6d8f410c7b08"
      },
      "outputs": [
        {
          "output_type": "stream",
          "name": "stderr",
          "text": [
            "/usr/local/lib/python3.7/dist-packages/numpy/lib/nanfunctions.py:1120: RuntimeWarning: All-NaN slice encountered\n",
            "  overwrite_input=overwrite_input)\n"
          ]
        },
        {
          "output_type": "execute_result",
          "data": {
            "text/plain": [
              "array([nan, nan, nan, nan, nan, nan, nan, nan, nan, nan])"
            ]
          },
          "metadata": {},
          "execution_count": 45
        }
      ],
      "source": [
        "data = np.random.random(1000).reshape(10, 10,10) * np.nan\n",
        "np.seterr(all=\"ignore\")\n",
        "np.nanmedian(data, axis=[1, 2])"
      ]
    },
    {
      "cell_type": "markdown",
      "metadata": {
        "id": "z61E08r6jI17"
      },
      "source": [
        "#### 32. Is the following expressions true? (★☆☆) \n",
        "(**hint**: imaginary number)"
      ]
    },
    {
      "cell_type": "markdown",
      "metadata": {
        "id": "dpAbqBU2jI17"
      },
      "source": [
        "```python\n",
        "np.sqrt(-1) == np.emath.sqrt(-1)\n",
        "```"
      ]
    },
    {
      "cell_type": "code",
      "execution_count": 46,
      "metadata": {
        "id": "3L0PW7kbjI17",
        "colab": {
          "base_uri": "https://localhost:8080/"
        },
        "outputId": "1fa60594-c8a0-4003-dce2-9c01f9b25f2a"
      },
      "outputs": [
        {
          "output_type": "execute_result",
          "data": {
            "text/plain": [
              "False"
            ]
          },
          "metadata": {},
          "execution_count": 46
        }
      ],
      "source": [
        "np.sqrt(-1) == np.emath.sqrt(-1)"
      ]
    },
    {
      "cell_type": "markdown",
      "metadata": {
        "id": "4-qY9iKGjI17"
      },
      "source": [
        "#### 33. How to get the dates of yesterday, today and tomorrow? (★☆☆) \n",
        "(**hint**: np.datetime64, np.timedelta64)"
      ]
    },
    {
      "cell_type": "code",
      "execution_count": 47,
      "metadata": {
        "collapsed": true,
        "id": "OmL0YCOBjI17",
        "colab": {
          "base_uri": "https://localhost:8080/"
        },
        "outputId": "59957fd2-91d9-4d8d-c7cb-ac3ebb483c9e"
      },
      "outputs": [
        {
          "output_type": "stream",
          "name": "stdout",
          "text": [
            "Today:  2022-02-22\n",
            "Yestraday:  2022-02-21\n",
            "Tomorrow:  2022-02-23\n"
          ]
        }
      ],
      "source": [
        "# for today\n",
        "today = np.datetime64('today', 'D')\n",
        "print(\"Today: \", today)\n",
        "  \n",
        "# for yesterday\n",
        "yesterday = np.datetime64('today', 'D')- np.timedelta64(1, 'D')\n",
        "print(\"Yestraday: \", yesterday)\n",
        "  \n",
        "# for tomorrow\n",
        "tomorrow = np.datetime64('today', 'D')+ np.timedelta64(1, 'D') \n",
        "print(\"Tomorrow: \", tomorrow)"
      ]
    },
    {
      "cell_type": "markdown",
      "metadata": {
        "id": "UYAqWRDyjI17"
      },
      "source": [
        "#### 34. How to get all the dates corresponding to the month of July 2016? (★★☆) \n",
        "(**hint**: np.arange(dtype=datetime64\\['D'\\]))"
      ]
    },
    {
      "cell_type": "code",
      "execution_count": 48,
      "metadata": {
        "id": "jbZFBQ9CjI18",
        "colab": {
          "base_uri": "https://localhost:8080/"
        },
        "outputId": "a12e0740-efb7-4b01-9416-fba5779c3952"
      },
      "outputs": [
        {
          "output_type": "stream",
          "name": "stdout",
          "text": [
            "March, 2017\n",
            "['2017-03-01' '2017-03-02' '2017-03-03' '2017-03-04' '2017-03-05'\n",
            " '2017-03-06' '2017-03-07' '2017-03-08' '2017-03-09' '2017-03-10'\n",
            " '2017-03-11' '2017-03-12' '2017-03-13' '2017-03-14' '2017-03-15'\n",
            " '2017-03-16' '2017-03-17' '2017-03-18' '2017-03-19' '2017-03-20'\n",
            " '2017-03-21' '2017-03-22' '2017-03-23' '2017-03-24' '2017-03-25'\n",
            " '2017-03-26' '2017-03-27' '2017-03-28' '2017-03-29' '2017-03-30'\n",
            " '2017-03-31']\n"
          ]
        }
      ],
      "source": [
        "import numpy as np\n",
        "print(\"March, 2017\")\n",
        "print(np.arange('2017-03', '2017-04', dtype='datetime64[D]'))"
      ]
    },
    {
      "cell_type": "markdown",
      "metadata": {
        "id": "8Kjq3BMijI18"
      },
      "source": [
        "#### 35. How to compute ((A+B)\\*(-A/2)) in place (without copy)? (★★☆) \n",
        "(**hint**: np.add(out=), np.negative(out=), np.multiply(out=), np.divide(out=))"
      ]
    },
    {
      "cell_type": "code",
      "execution_count": 49,
      "metadata": {
        "id": "piw9uXIOjI18",
        "colab": {
          "base_uri": "https://localhost:8080/"
        },
        "outputId": "b43d6ae0-2a47-41f3-c692-5a0409b60f89"
      },
      "outputs": [
        {
          "output_type": "execute_result",
          "data": {
            "text/plain": [
              "array([-1.5, -1.5, -1.5])"
            ]
          },
          "metadata": {},
          "execution_count": 49
        }
      ],
      "source": [
        "A = np.ones(3)*1\n",
        "B = np.ones(3)*2\n",
        "np.add(A,B,out=B)\n",
        "np.divide(A,2,out=A)\n",
        "np.negative(A,out=A)\n",
        "np.multiply(A,B,out=A)"
      ]
    },
    {
      "cell_type": "markdown",
      "metadata": {
        "id": "vr3Bo4tTjI18"
      },
      "source": [
        "#### 36. Extract the integer part of a random array using 5 different methods (★★☆) \n",
        "(**hint**: %, np.floor, np.ceil, astype, np.trunc)"
      ]
    },
    {
      "cell_type": "code",
      "execution_count": 50,
      "metadata": {
        "id": "BkmZihkAjI18",
        "colab": {
          "base_uri": "https://localhost:8080/"
        },
        "outputId": "2a2f5da3-50e7-42c3-a7c4-8d1ed0144408"
      },
      "outputs": [
        {
          "output_type": "stream",
          "name": "stdout",
          "text": [
            "[5. 0. 7. 7. 7. 8. 7. 5. 0. 5.]\n",
            "[5. 0. 7. 7. 7. 8. 7. 5. 0. 5.]\n",
            "[5. 0. 7. 7. 7. 8. 7. 5. 0. 5.]\n",
            "[5 0 7 7 7 8 7 5 0 5]\n",
            "[5. 0. 7. 7. 7. 8. 7. 5. 0. 5.]\n"
          ]
        }
      ],
      "source": [
        "x = np.random.uniform(0,10,10)\n",
        "print(x - x%1)\n",
        "print(x // 1)\n",
        "print(np.floor(x))\n",
        "print(x.astype(int))\n",
        "print(np.trunc(x))"
      ]
    },
    {
      "cell_type": "markdown",
      "metadata": {
        "id": "KsaD7mfcjI18"
      },
      "source": [
        "#### 37. Create a 5x5 matrix with row values ranging from 0 to 4 (★★☆) \n",
        "(**hint**: np.arange)"
      ]
    },
    {
      "cell_type": "code",
      "execution_count": 51,
      "metadata": {
        "id": "XPyA6tAAjI18",
        "colab": {
          "base_uri": "https://localhost:8080/"
        },
        "outputId": "d2faaad0-cc38-4af4-ffe7-e39e84053e80"
      },
      "outputs": [
        {
          "output_type": "stream",
          "name": "stdout",
          "text": [
            "Original array:\n",
            "[[0. 0. 0. 0. 0.]\n",
            " [0. 0. 0. 0. 0.]\n",
            " [0. 0. 0. 0. 0.]\n",
            " [0. 0. 0. 0. 0.]\n",
            " [0. 0. 0. 0. 0.]]\n",
            "\n",
            "Row values ranging from 0 to 4.\n",
            "[[0. 1. 2. 3. 4.]\n",
            " [0. 1. 2. 3. 4.]\n",
            " [0. 1. 2. 3. 4.]\n",
            " [0. 1. 2. 3. 4.]\n",
            " [0. 1. 2. 3. 4.]]\n"
          ]
        }
      ],
      "source": [
        "import numpy as np\n",
        "x = np.zeros((5,5))\n",
        "print(\"Original array:\")\n",
        "print(x)\n",
        "print(\"\\nRow values ranging from 0 to 4.\")\n",
        "x += np.arange(5)\n",
        "print(x)"
      ]
    },
    {
      "cell_type": "markdown",
      "metadata": {
        "id": "eDmBKTkfjI18"
      },
      "source": [
        "#### 38. Consider a generator function that generates 10 integers and use it to build an array (★☆☆) \n",
        "(**hint**: np.fromiter)"
      ]
    },
    {
      "cell_type": "code",
      "execution_count": 52,
      "metadata": {
        "id": "K-1G7lnPjI19",
        "colab": {
          "base_uri": "https://localhost:8080/"
        },
        "outputId": "6e914a07-9213-4890-f4f6-44e952e57919"
      },
      "outputs": [
        {
          "output_type": "stream",
          "name": "stdout",
          "text": [
            "New array:\n",
            "[0. 1. 2. 3. 4. 5. 6. 7. 8. 9.]\n"
          ]
        }
      ],
      "source": [
        "import numpy as np\n",
        "def generate():\n",
        "   for n in range(10):\n",
        "       yield n\n",
        "nums = np.fromiter(generate(),dtype=float,count=-1)\n",
        "print(\"New array:\")\n",
        "print(nums)"
      ]
    },
    {
      "cell_type": "markdown",
      "metadata": {
        "id": "0PLDIu2djI19"
      },
      "source": [
        "#### 39. Create a vector of size 10 with values ranging from 0 to 1, both excluded (★★☆) \n",
        "(**hint**: np.linspace)"
      ]
    },
    {
      "cell_type": "code",
      "execution_count": 58,
      "metadata": {
        "id": "Np_y7FUcjI19",
        "colab": {
          "base_uri": "https://localhost:8080/"
        },
        "outputId": "00f3e654-ccbe-4b0c-ba21-53636bff937d"
      },
      "outputs": [
        {
          "output_type": "stream",
          "name": "stdout",
          "text": [
            "[0.09090909 0.18181818 0.27272727 0.36363636 0.45454545 0.54545455\n",
            " 0.63636364 0.72727273 0.81818182 0.90909091]\n"
          ]
        }
      ],
      "source": [
        "import numpy as np\n",
        "x = np.linspace(0,1,12,endpoint=True)[1:-1]\n",
        "print(x)"
      ]
    },
    {
      "cell_type": "code",
      "source": [
        "#39 another way \n",
        "y = np.linspace(0,1,11,endpoint=False)[1:]\n",
        "print(y)"
      ],
      "metadata": {
        "colab": {
          "base_uri": "https://localhost:8080/"
        },
        "id": "nyEeAnsTuEHx",
        "outputId": "77f82870-e03b-4e6b-d20d-6725556b55b2"
      },
      "execution_count": 57,
      "outputs": [
        {
          "output_type": "stream",
          "name": "stdout",
          "text": [
            "[0.09090909 0.18181818 0.27272727 0.36363636 0.45454545 0.54545455\n",
            " 0.63636364 0.72727273 0.81818182 0.90909091]\n"
          ]
        }
      ]
    },
    {
      "cell_type": "markdown",
      "metadata": {
        "id": "wGrASoxijI19"
      },
      "source": [
        "#### 40. Create a random vector of size 10 and sort it (★★☆) \n",
        "(**hint**: sort)"
      ]
    },
    {
      "cell_type": "code",
      "execution_count": 61,
      "metadata": {
        "id": "BAOGWEeFjI19",
        "colab": {
          "base_uri": "https://localhost:8080/"
        },
        "outputId": "f2d886f9-9e66-4790-9f99-28bc5b2236fd"
      },
      "outputs": [
        {
          "output_type": "stream",
          "name": "stdout",
          "text": [
            "Original Array:\n",
            "[0.7042346  0.38981599 0.32191302 0.46312735 0.48030135 0.39463739\n",
            " 0.8446345  0.47094817 0.62407022 0.90632501]\n",
            "\n",
            " Sorted Array:\n",
            "[0.32191302 0.38981599 0.39463739 0.46312735 0.47094817 0.48030135\n",
            " 0.62407022 0.7042346  0.8446345  0.90632501]\n"
          ]
        }
      ],
      "source": [
        "import numpy as np\n",
        "x = np.random.random(10)\n",
        "print(\"Original Array:\")\n",
        "print(x)\n",
        "x.sort()\n",
        "print(\"\\n Sorted Array:\")\n",
        "print(x)"
      ]
    },
    {
      "cell_type": "markdown",
      "metadata": {
        "id": "nBTzJ-eIjI19"
      },
      "source": [
        "#### 41. How to sum a small array faster than np.sum? (★★☆) \n",
        "(**hint**: np.add.reduce)"
      ]
    },
    {
      "cell_type": "code",
      "execution_count": 62,
      "metadata": {
        "id": "1gPy_iunjI19",
        "colab": {
          "base_uri": "https://localhost:8080/"
        },
        "outputId": "da567507-7dcf-4070-9fe5-6c7afeaa429b"
      },
      "outputs": [
        {
          "output_type": "execute_result",
          "data": {
            "text/plain": [
              "45"
            ]
          },
          "metadata": {},
          "execution_count": 62
        }
      ],
      "source": [
        "x = np.arange(10)\n",
        "np.add.reduce(x)"
      ]
    },
    {
      "cell_type": "markdown",
      "metadata": {
        "id": "iI6VOxE0jI19"
      },
      "source": [
        "#### 42. Consider two random array A and B, check if they are equal (★★☆) \n",
        "(**hint**: np.allclose, np.array\\_equal)"
      ]
    },
    {
      "cell_type": "code",
      "execution_count": 63,
      "metadata": {
        "id": "XlHMj9XQjI19",
        "colab": {
          "base_uri": "https://localhost:8080/"
        },
        "outputId": "13de8308-8d2e-4d52-9af6-18eaacbb2709"
      },
      "outputs": [
        {
          "output_type": "stream",
          "name": "stdout",
          "text": [
            "First array:\n",
            "[0 0]\n",
            "Second array:\n",
            "[0 0]\n",
            "True\n"
          ]
        }
      ],
      "source": [
        "import numpy as np\n",
        "A = np.random.randint(0,1,2)\n",
        "print(\"First array:\")\n",
        "print(A)\n",
        "B = np.random.randint(0,1,2)\n",
        "print(\"Second array:\")\n",
        "print(B)\n",
        "array_equal = np.allclose(A, B)\n",
        "print(array_equal)"
      ]
    },
    {
      "cell_type": "markdown",
      "metadata": {
        "id": "7AUKamQGjI1-"
      },
      "source": [
        "#### 43. Make an array immutable (read-only) (★★☆) \n",
        "(**hint**: flags.writeable)"
      ]
    },
    {
      "cell_type": "code",
      "source": [
        "Z = np.zeros(10)\n",
        "Z.flags.writeable = False\n",
        "Z[0] = 1"
      ],
      "metadata": {
        "id": "BiPsCtGA9bq-"
      },
      "execution_count": null,
      "outputs": []
    },
    {
      "cell_type": "markdown",
      "metadata": {
        "id": "fAnfRSbfjI1-"
      },
      "source": [
        "#### 44. Consider a random 10x2 matrix representing cartesian coordinates, convert them to polar coordinates (★★☆) \n",
        "(**hint**: np.sqrt, np.arctan2)"
      ]
    },
    {
      "cell_type": "code",
      "source": [
        "import numpy as np\n",
        "z= np.random.random((10,2))\n",
        "x,y = z[:,0], z[:,1]\n",
        "r = np.sqrt(x**2+y**2)\n",
        "t = np.arctan2(y,x)\n",
        "print(r)\n",
        "print(t)"
      ],
      "metadata": {
        "colab": {
          "base_uri": "https://localhost:8080/"
        },
        "id": "8YXtlvUAwzw3",
        "outputId": "3364f73f-49b1-4adc-9271-bd8c449fbe1d"
      },
      "execution_count": 72,
      "outputs": [
        {
          "output_type": "stream",
          "name": "stdout",
          "text": [
            "[0.66685978 0.21191519 0.84176102 0.66485148 1.06515628 0.65657274\n",
            " 1.0566377  0.80968446 0.12636652 0.7673358 ]\n",
            "[1.21841429 0.46479952 0.38971428 0.94308667 0.39226144 0.83964096\n",
            " 0.68079286 1.00070052 0.24098095 0.01199079]\n"
          ]
        }
      ]
    },
    {
      "cell_type": "markdown",
      "metadata": {
        "id": "080AqrsrjI1-"
      },
      "source": [
        "#### 45. Create random vector of size 10 and replace the maximum value by 0 (★★☆) \n",
        "(**hint**: argmax)"
      ]
    },
    {
      "cell_type": "code",
      "execution_count": 76,
      "metadata": {
        "id": "mELgzrNpjI1-",
        "colab": {
          "base_uri": "https://localhost:8080/"
        },
        "outputId": "450156fb-6038-43ad-bae8-8feda3794f45"
      },
      "outputs": [
        {
          "output_type": "stream",
          "name": "stdout",
          "text": [
            "Original array:\n",
            "[0.39051661 0.95420317 0.63448559 0.081302   0.16774111 0.80920652\n",
            " 0.61468222 0.84217767 0.26722644 0.0997445 ]\n",
            "\n",
            " Maximum value replaced by 0:\n",
            "[0.39051661 0.         0.63448559 0.081302   0.16774111 0.80920652\n",
            " 0.61468222 0.84217767 0.26722644 0.0997445 ]\n"
          ]
        }
      ],
      "source": [
        "import numpy as np\n",
        "x = np.random.random(10)\n",
        "print(\"Original array:\")\n",
        "print(x)\n",
        "x[x.argmax()] = 0\n",
        "print(\"\\n Maximum value replaced by 0:\")\n",
        "print(x)"
      ]
    },
    {
      "cell_type": "markdown",
      "metadata": {
        "id": "U59NB6wDjI1-"
      },
      "source": [
        "#### 46. Create a structured array with `x` and `y` coordinates covering the \\[0,1\\]x\\[0,1\\] area (★★☆) \n",
        "(**hint**: np.meshgrid)"
      ]
    },
    {
      "cell_type": "code",
      "execution_count": 79,
      "metadata": {
        "id": "ZuKii2ctjI1-",
        "colab": {
          "base_uri": "https://localhost:8080/"
        },
        "outputId": "d050b01b-7e6f-45f3-9f50-1f3260c2a1d8"
      },
      "outputs": [
        {
          "output_type": "stream",
          "name": "stdout",
          "text": [
            "[[(0.  , 0.  ) (0.25, 0.  ) (0.5 , 0.  ) (0.75, 0.  ) (1.  , 0.  )]\n",
            " [(0.  , 0.25) (0.25, 0.25) (0.5 , 0.25) (0.75, 0.25) (1.  , 0.25)]\n",
            " [(0.  , 0.5 ) (0.25, 0.5 ) (0.5 , 0.5 ) (0.75, 0.5 ) (1.  , 0.5 )]\n",
            " [(0.  , 0.75) (0.25, 0.75) (0.5 , 0.75) (0.75, 0.75) (1.  , 0.75)]\n",
            " [(0.  , 1.  ) (0.25, 1.  ) (0.5 , 1.  ) (0.75, 1.  ) (1.  , 1.  )]]\n"
          ]
        }
      ],
      "source": [
        "Z = np.zeros((5,5), [('x',float),('y',float)])\n",
        "Z['x'], Z['y'] = np.meshgrid(np.linspace(0,1,5),\n",
        "                             np.linspace(0,1,5))\n",
        "print(Z)"
      ]
    },
    {
      "cell_type": "markdown",
      "metadata": {
        "id": "TYx4xb21jI1-"
      },
      "source": [
        "####  47. Given two arrays, X and Y, construct the Cauchy matrix C (Cij =1/(xi - yj)) \n",
        "(**hint**: np.subtract.outer)"
      ]
    },
    {
      "cell_type": "code",
      "execution_count": 80,
      "metadata": {
        "id": "-_so8nlzjI1_",
        "colab": {
          "base_uri": "https://localhost:8080/"
        },
        "outputId": "5c65027f-f3e5-4069-8910-c0e5b806f5ce"
      },
      "outputs": [
        {
          "output_type": "stream",
          "name": "stdout",
          "text": [
            "3638.163637117973\n"
          ]
        }
      ],
      "source": [
        "X = np.arange(8)\n",
        "Y = X + 0.5\n",
        "C = 1.0 / np.subtract.outer(X, Y)\n",
        "print(np.linalg.det(C))"
      ]
    },
    {
      "cell_type": "markdown",
      "metadata": {
        "id": "E3F4zBV_jI1_"
      },
      "source": [
        "#### 48. Print the minimum and maximum representable value for each numpy scalar type (★★☆) \n",
        "(**hint**: np.iinfo, np.finfo, eps)"
      ]
    },
    {
      "cell_type": "code",
      "execution_count": 81,
      "metadata": {
        "id": "zfR97OB9jI1_",
        "colab": {
          "base_uri": "https://localhost:8080/"
        },
        "outputId": "2b285428-3abb-427f-ebf1-1d0005e034f9"
      },
      "outputs": [
        {
          "output_type": "stream",
          "name": "stdout",
          "text": [
            "-128\n",
            "127\n",
            "-2147483648\n",
            "2147483647\n",
            "-9223372036854775808\n",
            "9223372036854775807\n",
            "-3.4028235e+38\n",
            "3.4028235e+38\n",
            "1.1920929e-07\n",
            "-1.7976931348623157e+308\n",
            "1.7976931348623157e+308\n",
            "2.220446049250313e-16\n"
          ]
        }
      ],
      "source": [
        "for dtype in [np.int8, np.int32, np.int64]:\n",
        "   print(np.iinfo(dtype).min)\n",
        "   print(np.iinfo(dtype).max)\n",
        "for dtype in [np.float32, np.float64]:\n",
        "   print(np.finfo(dtype).min)\n",
        "   print(np.finfo(dtype).max)\n",
        "   print(np.finfo(dtype).eps)"
      ]
    },
    {
      "cell_type": "markdown",
      "metadata": {
        "id": "vad17K-WjI1_"
      },
      "source": [
        "#### 49. How to print all the values of an array? (★★☆) \n",
        "(**hint**: np.set\\_printoptions)"
      ]
    },
    {
      "cell_type": "code",
      "execution_count": 83,
      "metadata": {
        "id": "qxu7Q6pejI1_",
        "colab": {
          "base_uri": "https://localhost:8080/"
        },
        "outputId": "3c4f3bdf-aac4-4635-83e3-4d6e9bdd45c5"
      },
      "outputs": [
        {
          "output_type": "stream",
          "name": "stdout",
          "text": [
            "[[0. 0. 0. 0. 0. 0. 0. 0. 0. 0. 0. 0. 0. 0. 0. 0. 0. 0. 0. 0.]\n",
            " [0. 0. 0. 0. 0. 0. 0. 0. 0. 0. 0. 0. 0. 0. 0. 0. 0. 0. 0. 0.]\n",
            " [0. 0. 0. 0. 0. 0. 0. 0. 0. 0. 0. 0. 0. 0. 0. 0. 0. 0. 0. 0.]\n",
            " [0. 0. 0. 0. 0. 0. 0. 0. 0. 0. 0. 0. 0. 0. 0. 0. 0. 0. 0. 0.]\n",
            " [0. 0. 0. 0. 0. 0. 0. 0. 0. 0. 0. 0. 0. 0. 0. 0. 0. 0. 0. 0.]\n",
            " [0. 0. 0. 0. 0. 0. 0. 0. 0. 0. 0. 0. 0. 0. 0. 0. 0. 0. 0. 0.]\n",
            " [0. 0. 0. 0. 0. 0. 0. 0. 0. 0. 0. 0. 0. 0. 0. 0. 0. 0. 0. 0.]\n",
            " [0. 0. 0. 0. 0. 0. 0. 0. 0. 0. 0. 0. 0. 0. 0. 0. 0. 0. 0. 0.]\n",
            " [0. 0. 0. 0. 0. 0. 0. 0. 0. 0. 0. 0. 0. 0. 0. 0. 0. 0. 0. 0.]\n",
            " [0. 0. 0. 0. 0. 0. 0. 0. 0. 0. 0. 0. 0. 0. 0. 0. 0. 0. 0. 0.]\n",
            " [0. 0. 0. 0. 0. 0. 0. 0. 0. 0. 0. 0. 0. 0. 0. 0. 0. 0. 0. 0.]\n",
            " [0. 0. 0. 0. 0. 0. 0. 0. 0. 0. 0. 0. 0. 0. 0. 0. 0. 0. 0. 0.]\n",
            " [0. 0. 0. 0. 0. 0. 0. 0. 0. 0. 0. 0. 0. 0. 0. 0. 0. 0. 0. 0.]\n",
            " [0. 0. 0. 0. 0. 0. 0. 0. 0. 0. 0. 0. 0. 0. 0. 0. 0. 0. 0. 0.]\n",
            " [0. 0. 0. 0. 0. 0. 0. 0. 0. 0. 0. 0. 0. 0. 0. 0. 0. 0. 0. 0.]\n",
            " [0. 0. 0. 0. 0. 0. 0. 0. 0. 0. 0. 0. 0. 0. 0. 0. 0. 0. 0. 0.]\n",
            " [0. 0. 0. 0. 0. 0. 0. 0. 0. 0. 0. 0. 0. 0. 0. 0. 0. 0. 0. 0.]\n",
            " [0. 0. 0. 0. 0. 0. 0. 0. 0. 0. 0. 0. 0. 0. 0. 0. 0. 0. 0. 0.]\n",
            " [0. 0. 0. 0. 0. 0. 0. 0. 0. 0. 0. 0. 0. 0. 0. 0. 0. 0. 0. 0.]\n",
            " [0. 0. 0. 0. 0. 0. 0. 0. 0. 0. 0. 0. 0. 0. 0. 0. 0. 0. 0. 0.]]\n"
          ]
        }
      ],
      "source": [
        "np.set_printoptions(threshold=float(\"inf\"))\n",
        "Z = np.zeros((20,20))\n",
        "print(Z)"
      ]
    },
    {
      "cell_type": "markdown",
      "metadata": {
        "id": "qxUyRs6hjI1_"
      },
      "source": [
        "#### 50. How to find the closest value (to a given scalar) in a vector? (★★☆) \n",
        "(**hint**: argmin)"
      ]
    },
    {
      "cell_type": "code",
      "execution_count": 84,
      "metadata": {
        "id": "Kux-ET10jI1_",
        "colab": {
          "base_uri": "https://localhost:8080/"
        },
        "outputId": "d03ad079-e480-4f51-c3ca-74e708a52736"
      },
      "outputs": [
        {
          "output_type": "stream",
          "name": "stdout",
          "text": [
            "Original array:\n",
            "[ 0  1  2  3  4  5  6  7  8  9 10 11 12 13 14 15 16 17 18 19 20 21 22 23\n",
            " 24 25 26 27 28 29 30 31 32 33 34 35 36 37 38 39 40 41 42 43 44 45 46 47\n",
            " 48 49 50 51 52 53 54 55 56 57 58 59 60 61 62 63 64 65 66 67 68 69 70 71\n",
            " 72 73 74 75 76 77 78 79 80 81 82 83 84 85 86 87 88 89 90 91 92 93 94 95\n",
            " 96 97 98 99]\n",
            "Value to compare:\n",
            "1.7292083888672205\n",
            "2\n"
          ]
        }
      ],
      "source": [
        "import numpy as np\n",
        "x = np.arange(100)\n",
        "print(\"Original array:\")\n",
        "print(x)\n",
        "a = np.random.uniform(0,100)\n",
        "print(\"Value to compare:\")\n",
        "print(a)\n",
        "index = (np.abs(x-a)).argmin()\n",
        "print(x[index])"
      ]
    },
    {
      "cell_type": "markdown",
      "metadata": {
        "id": "FoOjZ50QjI1_"
      },
      "source": [
        "#### 51. Create a structured array representing a position (x,y) and a color (r,g,b) (★★☆) \n",
        "(**hint**: dtype)"
      ]
    },
    {
      "cell_type": "code",
      "execution_count": 86,
      "metadata": {
        "id": "wHbipMLSjI1_",
        "colab": {
          "base_uri": "https://localhost:8080/"
        },
        "outputId": "43191053-5866-41a4-af47-98623e40c296"
      },
      "outputs": [
        {
          "output_type": "stream",
          "name": "stdout",
          "text": [
            "[((0., 0.), (0., 0., 0.)) ((0., 0.), (0., 0., 0.))\n",
            " ((0., 0.), (0., 0., 0.)) ((0., 0.), (0., 0., 0.))\n",
            " ((0., 0.), (0., 0., 0.)) ((0., 0.), (0., 0., 0.))\n",
            " ((0., 0.), (0., 0., 0.)) ((0., 0.), (0., 0., 0.))\n",
            " ((0., 0.), (0., 0., 0.)) ((0., 0.), (0., 0., 0.))]\n"
          ]
        },
        {
          "output_type": "stream",
          "name": "stderr",
          "text": [
            "/usr/local/lib/python3.7/dist-packages/ipykernel_launcher.py:5: FutureWarning: Passing (type, 1) or '1type' as a synonym of type is deprecated; in a future version of numpy, it will be understood as (type, (1,)) / '(1,)type'.\n",
            "  \"\"\"\n"
          ]
        }
      ],
      "source": [
        "A = np.zeros(10, [ ('position', [ ('x', float, 1),\n",
        "                                  ('y', float, 1)]),\n",
        "                   ('color',    [ ('r', float, 1),\n",
        "                                  ('g', float, 1),\n",
        "                                  ('b', float, 1)])])\n",
        "print(A)"
      ]
    },
    {
      "cell_type": "markdown",
      "metadata": {
        "id": "2N2Rb9P-jI2A"
      },
      "source": [
        "#### 52. Consider a random vector with shape (100,2) representing coordinates, find point by point distances (★★☆) \n",
        "(**hint**: np.atleast\\_2d, T, np.sqrt)"
      ]
    },
    {
      "cell_type": "code",
      "execution_count": 87,
      "metadata": {
        "id": "G1FGAZSKjI2A",
        "colab": {
          "base_uri": "https://localhost:8080/"
        },
        "outputId": "b0751d55-2d52-4155-c57b-94e3084b1cc9"
      },
      "outputs": [
        {
          "output_type": "stream",
          "name": "stdout",
          "text": [
            "[[0.         0.99763803 0.33757507 0.53178995 0.3345686  0.85726604\n",
            "  0.19518637 0.09193822 0.5826741  0.33609654]\n",
            " [0.99763803 0.         0.72917221 0.4963199  1.02120546 0.50632768\n",
            "  0.93024668 0.90665553 0.77089544 0.71920022]\n",
            " [0.33757507 0.72917221 0.         0.37487641 0.56824989 0.75656572\n",
            "  0.20526165 0.25555637 0.62822    0.01632117]\n",
            " [0.53178995 0.4963199  0.37487641 0.         0.5279152  0.38179528\n",
            "  0.52681237 0.44743586 0.35631028 0.3589924 ]\n",
            " [0.3345686  1.02120546 0.56824989 0.5279152  0.         0.71373556\n",
            "  0.51174107 0.35058331 0.35823898 0.55819076]\n",
            " [0.85726604 0.50632768 0.75656572 0.38179528 0.71373556 0.\n",
            "  0.89544612 0.78726546 0.36779276 0.740611  ]\n",
            " [0.19518637 0.93024668 0.20526165 0.52681237 0.51174107 0.89544612\n",
            "  0.         0.16362627 0.68796336 0.21268807]\n",
            " [0.09193822 0.90665553 0.25555637 0.44743586 0.35058331 0.78726546\n",
            "  0.16362627 0.         0.54008067 0.2519131 ]\n",
            " [0.5826741  0.77089544 0.62822    0.35631028 0.35823898 0.36779276\n",
            "  0.68796336 0.54008067 0.         0.61262364]\n",
            " [0.33609654 0.71920022 0.01632117 0.3589924  0.55819076 0.740611\n",
            "  0.21268807 0.2519131  0.61262364 0.        ]]\n"
          ]
        }
      ],
      "source": [
        "import numpy as np\n",
        "a= np.random.random((10,2))\n",
        "x,y = np.atleast_2d(a[:,0], a[:,1])\n",
        "d = np.sqrt( (x-x.T)**2 + (y-y.T)**2)\n",
        "print(d)"
      ]
    },
    {
      "cell_type": "markdown",
      "metadata": {
        "id": "keA5WVRRjI2A"
      },
      "source": [
        "#### 53. How to convert a float (32 bits) array into an integer (32 bits) in place? \n",
        "(**hint**: astype(copy=False))"
      ]
    },
    {
      "cell_type": "code",
      "execution_count": 88,
      "metadata": {
        "id": "OOghe-BOjI2A",
        "colab": {
          "base_uri": "https://localhost:8080/"
        },
        "outputId": "5584ce2c-1b43-46c4-f15b-7b3d0c408983"
      },
      "outputs": [
        {
          "output_type": "stream",
          "name": "stdout",
          "text": [
            "[ 5 73 49 44 32 53  0 80 57 45]\n"
          ]
        }
      ],
      "source": [
        "Z = (np.random.rand(10)*100).astype(np.float32)\n",
        "Y = Z.view(np.int32)\n",
        "Y[:] = Z\n",
        "print(Y)"
      ]
    },
    {
      "cell_type": "markdown",
      "metadata": {
        "id": "ihxjg8xtjI2A"
      },
      "source": [
        "#### 54. How to read the following file? (★★☆) \n",
        "(**hint**: np.genfromtxt)"
      ]
    },
    {
      "cell_type": "markdown",
      "metadata": {
        "id": "6U9-cbbEjI2A"
      },
      "source": [
        "```\n",
        "1, 2, 3, 4, 5\n",
        "6,  ,  , 7, 8\n",
        " ,  , 9,10,11\n",
        "```"
      ]
    },
    {
      "cell_type": "code",
      "execution_count": 89,
      "metadata": {
        "id": "avKsIdEMjI2A",
        "colab": {
          "base_uri": "https://localhost:8080/"
        },
        "outputId": "7da082a7-28cb-490c-cee6-224bfd175944"
      },
      "outputs": [
        {
          "output_type": "stream",
          "name": "stdout",
          "text": [
            "[[ 1  2  3  4  5]\n",
            " [ 6 -1 -1  7  8]\n",
            " [-1 -1  9 10 11]]\n"
          ]
        },
        {
          "output_type": "stream",
          "name": "stderr",
          "text": [
            "/usr/local/lib/python3.7/dist-packages/ipykernel_launcher.py:6: DeprecationWarning: `np.int` is a deprecated alias for the builtin `int`. To silence this warning, use `int` by itself. Doing this will not modify any behavior and is safe. When replacing `np.int`, you may wish to use e.g. `np.int64` or `np.int32` to specify the precision. If you wish to review your current use, check the release note link for additional information.\n",
            "Deprecated in NumPy 1.20; for more details and guidance: https://numpy.org/devdocs/release/1.20.0-notes.html#deprecations\n",
            "  \n"
          ]
        }
      ],
      "source": [
        "from io import StringIO\n",
        "A = StringIO('''1, 2, 3, 4, 5\n",
        "                6,  ,  , 7, 8\n",
        "                 ,  , 9,10,11\n",
        "''')\n",
        "B = np.genfromtxt(A, delimiter=\",\", dtype=np.int)\n",
        "print(B)"
      ]
    },
    {
      "cell_type": "markdown",
      "metadata": {
        "id": "ZdHIbgj1jI2A"
      },
      "source": [
        "#### 55. What is the equivalent of enumerate for numpy arrays? (★★☆) \n",
        "(**hint**: np.ndenumerate, np.ndindex)"
      ]
    },
    {
      "cell_type": "code",
      "execution_count": 91,
      "metadata": {
        "id": "eI5R0BFRjI2A",
        "colab": {
          "base_uri": "https://localhost:8080/"
        },
        "outputId": "cd40e567-d127-48ca-f090-9dab768d14a3"
      },
      "outputs": [
        {
          "output_type": "stream",
          "name": "stdout",
          "text": [
            "(0, 0) 0\n",
            "(0, 1) 1\n",
            "(0, 2) 2\n",
            "(1, 0) 3\n",
            "(1, 1) 4\n",
            "(1, 2) 5\n",
            "(2, 0) 6\n",
            "(2, 1) 7\n",
            "(2, 2) 8\n",
            "(0, 0) 0\n",
            "(0, 1) 1\n",
            "(0, 2) 2\n",
            "(1, 0) 3\n",
            "(1, 1) 4\n",
            "(1, 2) 5\n",
            "(2, 0) 6\n",
            "(2, 1) 7\n",
            "(2, 2) 8\n"
          ]
        }
      ],
      "source": [
        "x = np.arange(9).reshape(3,3)\n",
        "for index, value in np.ndenumerate(x):\n",
        "    print(index, value)\n",
        "for index in np.ndindex(x.shape):\n",
        "    print(index, x[index])"
      ]
    },
    {
      "cell_type": "markdown",
      "metadata": {
        "id": "5JArZ73UjI2B"
      },
      "source": [
        "#### 56. Generate a generic 2D Gaussian-like array (★★☆) \n",
        "(**hint**: np.meshgrid, np.exp)"
      ]
    },
    {
      "cell_type": "code",
      "execution_count": 94,
      "metadata": {
        "id": "lr9apHXBjI2B",
        "colab": {
          "base_uri": "https://localhost:8080/"
        },
        "outputId": "b05614c3-b881-414f-951e-7f61ec4173ae"
      },
      "outputs": [
        {
          "output_type": "stream",
          "name": "stdout",
          "text": [
            "[[0.36787944 0.44822088 0.51979489 0.57375342 0.60279818 0.60279818\n",
            "  0.57375342 0.51979489 0.44822088 0.36787944]\n",
            " [0.44822088 0.54610814 0.63331324 0.69905581 0.73444367 0.73444367\n",
            "  0.69905581 0.63331324 0.54610814 0.44822088]\n",
            " [0.51979489 0.63331324 0.73444367 0.81068432 0.85172308 0.85172308\n",
            "  0.81068432 0.73444367 0.63331324 0.51979489]\n",
            " [0.57375342 0.69905581 0.81068432 0.89483932 0.9401382  0.9401382\n",
            "  0.89483932 0.81068432 0.69905581 0.57375342]\n",
            " [0.60279818 0.73444367 0.85172308 0.9401382  0.98773022 0.98773022\n",
            "  0.9401382  0.85172308 0.73444367 0.60279818]\n",
            " [0.60279818 0.73444367 0.85172308 0.9401382  0.98773022 0.98773022\n",
            "  0.9401382  0.85172308 0.73444367 0.60279818]\n",
            " [0.57375342 0.69905581 0.81068432 0.89483932 0.9401382  0.9401382\n",
            "  0.89483932 0.81068432 0.69905581 0.57375342]\n",
            " [0.51979489 0.63331324 0.73444367 0.81068432 0.85172308 0.85172308\n",
            "  0.81068432 0.73444367 0.63331324 0.51979489]\n",
            " [0.44822088 0.54610814 0.63331324 0.69905581 0.73444367 0.73444367\n",
            "  0.69905581 0.63331324 0.54610814 0.44822088]\n",
            " [0.36787944 0.44822088 0.51979489 0.57375342 0.60279818 0.60279818\n",
            "  0.57375342 0.51979489 0.44822088 0.36787944]]\n"
          ]
        }
      ],
      "source": [
        "x, y = np.meshgrid(np.linspace(-1,1,10), np.linspace(-1,1,10))\n",
        "d = np.sqrt(x*x+y*y)\n",
        "sigma, mu = 1.0, 0.0\n",
        "g = np.exp(-( (d-mu)**2 / ( 2.0 * sigma**2 ) ) )\n",
        "print(g)"
      ]
    },
    {
      "cell_type": "markdown",
      "metadata": {
        "id": "xlvnkB3qjI2B"
      },
      "source": [
        "#### 57. How to randomly place p elements in a 2D array? (★★☆) \n",
        "(**hint**: np.put, np.random.choice)"
      ]
    },
    {
      "cell_type": "code",
      "execution_count": 95,
      "metadata": {
        "id": "w88TZnLqjI2B",
        "colab": {
          "base_uri": "https://localhost:8080/"
        },
        "outputId": "a8b6c1e6-930f-46b7-f3f5-1098e3e79d42"
      },
      "outputs": [
        {
          "output_type": "stream",
          "name": "stdout",
          "text": [
            "[[0. 0. 0. 0. 0. 0. 0. 0. 0. 0.]\n",
            " [0. 0. 0. 0. 1. 0. 0. 0. 0. 0.]\n",
            " [0. 0. 0. 0. 0. 0. 0. 0. 0. 0.]\n",
            " [0. 0. 0. 0. 0. 0. 0. 0. 0. 0.]\n",
            " [0. 0. 0. 0. 0. 0. 0. 0. 0. 0.]\n",
            " [0. 0. 0. 0. 0. 0. 1. 0. 0. 0.]\n",
            " [0. 0. 0. 1. 0. 0. 0. 0. 0. 0.]\n",
            " [0. 0. 0. 0. 0. 0. 0. 0. 0. 0.]\n",
            " [0. 0. 0. 0. 0. 0. 0. 0. 0. 0.]\n",
            " [0. 0. 0. 0. 0. 0. 0. 0. 0. 0.]]\n"
          ]
        }
      ],
      "source": [
        "n = 10\n",
        "p = 3\n",
        "x = np.zeros((n,n))\n",
        "np.put(x, np.random.choice(range(n*n), p, replace=False),1)\n",
        "print(x)"
      ]
    },
    {
      "cell_type": "markdown",
      "metadata": {
        "id": "z45nfqsyjI2B"
      },
      "source": [
        "#### 58. Subtract the mean of each row of a matrix (★★☆) \n",
        "(**hint**: mean(axis=,keepdims=))"
      ]
    },
    {
      "cell_type": "code",
      "execution_count": 96,
      "metadata": {
        "id": "2T3iqkqAjI2B",
        "colab": {
          "base_uri": "https://localhost:8080/"
        },
        "outputId": "f1f622b0-8c98-495a-fc49-4c8059889d39"
      },
      "outputs": [
        {
          "output_type": "stream",
          "name": "stdout",
          "text": [
            "[[ 0.36145699 -0.12276874  0.3848497  -0.17558374 -0.37101235  0.11339233\n",
            "  -0.34815037  0.27013138  0.31841353 -0.43072873]\n",
            " [ 0.27158282 -0.11366139  0.17233113  0.00225927 -0.33497826 -0.0738539\n",
            "  -0.02709803  0.16988376 -0.07500702  0.00854162]\n",
            " [-0.14876675  0.16657909  0.56944851 -0.34429993 -0.18422456 -0.09244403\n",
            "   0.16135189  0.4060048  -0.27152539 -0.26212363]\n",
            " [-0.26207943  0.35657024  0.24653089  0.04595529 -0.39665357 -0.16535729\n",
            "  -0.12107048  0.35830585  0.24850562 -0.31070713]\n",
            " [ 0.12022431 -0.10050504  0.1017632  -0.20799252 -0.06857782  0.31107687\n",
            "  -0.17045306  0.28579787 -0.26183901 -0.0094948 ]]\n"
          ]
        }
      ],
      "source": [
        "X = np.random.rand(5, 10)\n",
        "Y = X - X.mean(axis=1, keepdims=True)\n",
        "Y = X - X.mean(axis=1).reshape(-1, 1)\n",
        "print(Y)"
      ]
    },
    {
      "cell_type": "markdown",
      "metadata": {
        "id": "wGi8n2itjI2B"
      },
      "source": [
        "#### 59. How to sort an array by the nth column? (★★☆) \n",
        "(**hint**: argsort)"
      ]
    },
    {
      "cell_type": "code",
      "execution_count": 97,
      "metadata": {
        "id": "RAk0VFXtjI2B",
        "colab": {
          "base_uri": "https://localhost:8080/"
        },
        "outputId": "4338e3ab-f24d-4f24-e020-5a4a84c1551f"
      },
      "outputs": [
        {
          "output_type": "stream",
          "name": "stdout",
          "text": [
            "[[3 5 5]\n",
            " [0 2 6]\n",
            " [3 3 4]]\n",
            "[[0 2 6]\n",
            " [3 3 4]\n",
            " [3 5 5]]\n"
          ]
        }
      ],
      "source": [
        "x = np.random.randint(0,10,(3,3))\n",
        "print(x)\n",
        "print(x[x[:,1].argsort()])"
      ]
    },
    {
      "cell_type": "markdown",
      "metadata": {
        "id": "nAHWo9HsjI2B"
      },
      "source": [
        "#### 60. How to tell if a given 2D array has null columns? (★★☆) \n",
        "(**hint**: any, ~)"
      ]
    },
    {
      "cell_type": "code",
      "execution_count": 98,
      "metadata": {
        "id": "Aaf85OrUjI2B",
        "colab": {
          "base_uri": "https://localhost:8080/"
        },
        "outputId": "36b72265-0fa5-4c2a-ce41-1edd9e8acfec"
      },
      "outputs": [
        {
          "output_type": "stream",
          "name": "stdout",
          "text": [
            "False\n"
          ]
        }
      ],
      "source": [
        "X = np.random.randint(0,3,(3,10))\n",
        "print((~x.any(axis=0)).any())"
      ]
    },
    {
      "cell_type": "markdown",
      "metadata": {
        "id": "0dQ723fzjI2C"
      },
      "source": [
        "#### 61. Find the nearest value from a given value in an array (★★☆) \n",
        "(**hint**: np.abs, argmin, flat)"
      ]
    },
    {
      "cell_type": "code",
      "execution_count": 103,
      "metadata": {
        "id": "vjQ6g-pNjI2C",
        "colab": {
          "base_uri": "https://localhost:8080/"
        },
        "outputId": "e16d20e6-afd6-4455-b9c2-c5fd07f1a55c"
      },
      "outputs": [
        {
          "output_type": "stream",
          "name": "stdout",
          "text": [
            "0.37542287240781813\n"
          ]
        }
      ],
      "source": [
        "X = np.random.uniform(0,1,10)\n",
        "Y = 0.5\n",
        "Z = X.flat[np.abs(X - Y).argmin()]\n",
        "print(Z)"
      ]
    },
    {
      "cell_type": "markdown",
      "metadata": {
        "id": "xkgtrJn6jI2C"
      },
      "source": [
        "#### 62. Considering two arrays with shape (1,3) and (3,1), how to compute their sum using an iterator? (★★☆) \n",
        "(**hint**: np.nditer)"
      ]
    },
    {
      "cell_type": "code",
      "execution_count": 106,
      "metadata": {
        "id": "POy4j3j7jI2C",
        "colab": {
          "base_uri": "https://localhost:8080/"
        },
        "outputId": "5de2245f-14fd-4809-d3e6-31961633a660"
      },
      "outputs": [
        {
          "output_type": "stream",
          "name": "stdout",
          "text": [
            "[[0 1 2]\n",
            " [1 2 3]\n",
            " [2 3 4]]\n"
          ]
        }
      ],
      "source": [
        "A = np.arange(3).reshape(3,1)\n",
        "B = np.arange(3).reshape(1,3)\n",
        "C = np.nditer([A,B,None])\n",
        "for x,y,z in C: z[...] = x + y\n",
        "print(C.operands[2])"
      ]
    },
    {
      "cell_type": "markdown",
      "metadata": {
        "id": "dCZeD5nFjI2C"
      },
      "source": [
        "#### 63. Create an array class that has a name attribute (★★☆) \n",
        "(**hint**: class method)"
      ]
    },
    {
      "cell_type": "code",
      "execution_count": 109,
      "metadata": {
        "id": "oeNV47oWjI2C",
        "colab": {
          "base_uri": "https://localhost:8080/"
        },
        "outputId": "7b5607c0-666c-4b57-ac16-8695170df3c4"
      },
      "outputs": [
        {
          "output_type": "stream",
          "name": "stdout",
          "text": [
            "range_10\n"
          ]
        }
      ],
      "source": [
        "class NamedArray(np.ndarray):\n",
        "    def __new__(clas, array, name=\"no name\"):\n",
        "        obj = np.asarray(array).view(clas)\n",
        "        obj.name = name\n",
        "        return obj\n",
        "    def __array_finalize__(self, obj):\n",
        "        if obj is None: return\n",
        "        self.info = getattr(obj, 'name', \"no name\")\n",
        "X = NamedArray(np.arange(10), \"range_10\")\n",
        "print (X.name)"
      ]
    },
    {
      "cell_type": "markdown",
      "metadata": {
        "id": "22AxUJBLjI2C"
      },
      "source": [
        "#### 64. Consider a given vector, how to add 1 to each element indexed by a second vector (be careful with repeated indices)? (★★★) \n",
        "(**hint**: np.bincount | np.add.at)"
      ]
    },
    {
      "cell_type": "code",
      "execution_count": 112,
      "metadata": {
        "id": "q_vojwcTjI2C",
        "colab": {
          "base_uri": "https://localhost:8080/"
        },
        "outputId": "bd423138-0cfb-4731-995d-9b0d0dd73298"
      },
      "outputs": [
        {
          "output_type": "stream",
          "name": "stdout",
          "text": [
            "[5. 2. 4. 4. 6. 2. 1. 2. 3. 1.]\n"
          ]
        }
      ],
      "source": [
        "x = np.ones(10)\n",
        "y = np.random.randint(0,len(x),20)\n",
        "x += np.bincount(y, minlength=len(x))\n",
        "print(x)"
      ]
    },
    {
      "cell_type": "markdown",
      "metadata": {
        "id": "QkT_vNVujI2C"
      },
      "source": [
        "#### 65. How to accumulate elements of a vector (X) to an array (F) based on an index list (I)? (★★★) \n",
        "(**hint**: np.bincount)"
      ]
    },
    {
      "cell_type": "code",
      "execution_count": 114,
      "metadata": {
        "id": "XIDp94VEjI2D",
        "colab": {
          "base_uri": "https://localhost:8080/"
        },
        "outputId": "b85b56cc-db5a-4920-b500-f1b5b820ebcf"
      },
      "outputs": [
        {
          "output_type": "stream",
          "name": "stdout",
          "text": [
            "[0. 7. 0. 6. 5. 0. 0. 0. 0. 3.]\n"
          ]
        }
      ],
      "source": [
        "X = [1,2,3,4,5,6]\n",
        "I = [1,3,9,3,4,1]\n",
        "F = np.bincount(I,X)\n",
        "print(F)"
      ]
    },
    {
      "cell_type": "markdown",
      "metadata": {
        "id": "LEmWJ03ljI2D"
      },
      "source": [
        "#### 66. Considering a (w,h,3) image of (dtype=ubyte), compute the number of unique colors (★★★) \n",
        "(**hint**: np.unique)"
      ]
    },
    {
      "cell_type": "code",
      "execution_count": 115,
      "metadata": {
        "id": "iPLGbl5cjI2D",
        "colab": {
          "base_uri": "https://localhost:8080/"
        },
        "outputId": "c7c27f82-c043-470d-a538-c9a89747d6d2"
      },
      "outputs": [
        {
          "output_type": "stream",
          "name": "stdout",
          "text": [
            "64\n"
          ]
        }
      ],
      "source": [
        "w, h = 256, 256\n",
        "I = np.random.randint(0, 4, (h, w, 3)).astype(np.ubyte)\n",
        "colors = np.unique(I.reshape(-1, 3), axis=0)\n",
        "n = len(colors)\n",
        "print(n)"
      ]
    },
    {
      "cell_type": "markdown",
      "metadata": {
        "id": "29BWITeEjI2D"
      },
      "source": [
        "#### 67. Considering a four dimensions array, how to get sum over the last two axis at once? (★★★) \n",
        "(**hint**: sum(axis=(-2,-1)))"
      ]
    },
    {
      "cell_type": "code",
      "execution_count": 116,
      "metadata": {
        "id": "Gf2GhldtjI2D",
        "colab": {
          "base_uri": "https://localhost:8080/"
        },
        "outputId": "e371a723-044f-4b29-ccaf-73c788074cc7"
      },
      "outputs": [
        {
          "output_type": "stream",
          "name": "stdout",
          "text": [
            "[[68 64 62 71]\n",
            " [44 44 47 40]\n",
            " [45 48 38 61]]\n"
          ]
        }
      ],
      "source": [
        "A = np.random.randint(0,10,(3,4,3,4))\n",
        "sum = A.sum(axis=(-2,-1))\n",
        "print(sum)"
      ]
    },
    {
      "cell_type": "markdown",
      "metadata": {
        "id": "KVVgG42qjI2D"
      },
      "source": [
        "#### 68. Considering a one-dimensional vector D, how to compute means of subsets of D using a vector S of same size describing subset  indices? (★★★) \n",
        "(**hint**: np.bincount)"
      ]
    },
    {
      "cell_type": "code",
      "execution_count": 118,
      "metadata": {
        "id": "eGv2cd90jI2G",
        "colab": {
          "base_uri": "https://localhost:8080/"
        },
        "outputId": "d2e4d005-7214-4238-a3c3-a1ee6efee4e8"
      },
      "outputs": [
        {
          "output_type": "stream",
          "name": "stdout",
          "text": [
            "[0.484699   0.42683912 0.39653527 0.40670229 0.39128274 0.46667025\n",
            " 0.54654012 0.4908345  0.53433523 0.55802237]\n"
          ]
        }
      ],
      "source": [
        "D = np.random.uniform(0,1,100)\n",
        "S = np.random.randint(0,10,100)\n",
        "D_sums = np.bincount(S, weights=D)\n",
        "D_counts = np.bincount(S)\n",
        "D_means = D_sums / D_counts\n",
        "print(D_means)"
      ]
    },
    {
      "cell_type": "markdown",
      "metadata": {
        "id": "CGQztknhjI2H"
      },
      "source": [
        "#### 69. How to get the diagonal of a dot product? (★★★) \n",
        "(**hint**: np.diag)"
      ]
    },
    {
      "cell_type": "code",
      "execution_count": 119,
      "metadata": {
        "id": "dqpoKaQhjI2H",
        "colab": {
          "base_uri": "https://localhost:8080/"
        },
        "outputId": "e4b363d5-841d-4b4f-940f-47aa39cbda59"
      },
      "outputs": [
        {
          "output_type": "execute_result",
          "data": {
            "text/plain": [
              "array([1.8889932 , 1.99553661, 0.77385418, 1.43130939, 1.12248522])"
            ]
          },
          "metadata": {},
          "execution_count": 119
        }
      ],
      "source": [
        "A = np.random.uniform(0,1,(5,5))\n",
        "B = np.random.uniform(0,1,(5,5))\n",
        "# Slow version\n",
        "np.diag(np.dot(A, B))\n"
      ]
    },
    {
      "cell_type": "markdown",
      "metadata": {
        "id": "cpiddBTHjI2H"
      },
      "source": [
        "#### 70. Consider the vector \\[1, 2, 3, 4, 5\\], how to build a new vector with 3 consecutive zeros interleaved between each value? (★★★) \n",
        "(**hint**: array\\[::4\\])"
      ]
    },
    {
      "cell_type": "code",
      "source": [
        "Z = np.array([1,2,3,4,5])\n",
        "nz = 3\n",
        "Z0 = np.zeros(len(Z) + (len(Z)-1)*(nz))\n",
        "Z0[::nz+1] = Z\n",
        "print(Z0)"
      ],
      "metadata": {
        "colab": {
          "base_uri": "https://localhost:8080/"
        },
        "id": "HiVeitJ74WX3",
        "outputId": "e10747f1-469e-4bb7-c2bc-48c70f586d83"
      },
      "execution_count": 124,
      "outputs": [
        {
          "output_type": "stream",
          "name": "stdout",
          "text": [
            "[1. 0. 0. 0. 2. 0. 0. 0. 3. 0. 0. 0. 4. 0. 0. 0. 5.]\n"
          ]
        }
      ]
    },
    {
      "cell_type": "markdown",
      "metadata": {
        "id": "xSAyAqbCjI2H"
      },
      "source": [
        "#### 71. Consider an array of dimension (5,5,3), how to mulitply it by an array with dimensions (5,5)? (★★★) \n",
        "(**hint**: array\\[:, :, None\\])"
      ]
    },
    {
      "cell_type": "code",
      "execution_count": 125,
      "metadata": {
        "collapsed": true,
        "id": "k9HAuFRmjI2I",
        "colab": {
          "base_uri": "https://localhost:8080/"
        },
        "outputId": "13c4a8af-5cb7-4050-8cd7-a4591fd2a90a"
      },
      "outputs": [
        {
          "output_type": "stream",
          "name": "stdout",
          "text": [
            "[[[2. 2. 2.]\n",
            "  [2. 2. 2.]\n",
            "  [2. 2. 2.]\n",
            "  [2. 2. 2.]\n",
            "  [2. 2. 2.]]\n",
            "\n",
            " [[2. 2. 2.]\n",
            "  [2. 2. 2.]\n",
            "  [2. 2. 2.]\n",
            "  [2. 2. 2.]\n",
            "  [2. 2. 2.]]\n",
            "\n",
            " [[2. 2. 2.]\n",
            "  [2. 2. 2.]\n",
            "  [2. 2. 2.]\n",
            "  [2. 2. 2.]\n",
            "  [2. 2. 2.]]\n",
            "\n",
            " [[2. 2. 2.]\n",
            "  [2. 2. 2.]\n",
            "  [2. 2. 2.]\n",
            "  [2. 2. 2.]\n",
            "  [2. 2. 2.]]\n",
            "\n",
            " [[2. 2. 2.]\n",
            "  [2. 2. 2.]\n",
            "  [2. 2. 2.]\n",
            "  [2. 2. 2.]\n",
            "  [2. 2. 2.]]]\n"
          ]
        }
      ],
      "source": [
        "A = np.ones((5,5,3))\n",
        "B = 2*np.ones((5,5))\n",
        "print(A * B[:,:,None])"
      ]
    },
    {
      "cell_type": "markdown",
      "metadata": {
        "id": "-KeZ-HnjjI2I"
      },
      "source": [
        "#### 72. How to swap two rows of an array? (★★★) \n",
        "(**hint**: array\\[\\[\\]\\] = array\\[\\[\\]\\])"
      ]
    },
    {
      "cell_type": "code",
      "execution_count": 126,
      "metadata": {
        "id": "AyS_Mm_ojI2I",
        "colab": {
          "base_uri": "https://localhost:8080/"
        },
        "outputId": "6ebbca28-72b4-4dfc-8692-5cf1c898ccaa"
      },
      "outputs": [
        {
          "output_type": "stream",
          "name": "stdout",
          "text": [
            "[[ 5  6  7  8  9]\n",
            " [ 0  1  2  3  4]\n",
            " [10 11 12 13 14]\n",
            " [15 16 17 18 19]\n",
            " [20 21 22 23 24]]\n"
          ]
        }
      ],
      "source": [
        "A = np.arange(25).reshape(5,5)\n",
        "A[[0,1]] = A[[1,0]]\n",
        "print(A)"
      ]
    },
    {
      "cell_type": "markdown",
      "metadata": {
        "id": "MZeBv7_qjI2I"
      },
      "source": [
        "#### 73. Consider a set of 10 triplets describing 10 triangles (with shared vertices), find the set of unique line segments composing all the  triangles (★★★) \n",
        "(**hint**: repeat, np.roll, np.sort, view, np.unique)"
      ]
    },
    {
      "cell_type": "code",
      "execution_count": 127,
      "metadata": {
        "id": "zWXyypiejI2I",
        "colab": {
          "base_uri": "https://localhost:8080/"
        },
        "outputId": "7a3a8dce-a776-4146-eee3-1c1f2cfb85e5"
      },
      "outputs": [
        {
          "output_type": "stream",
          "name": "stdout",
          "text": [
            "[( 1, 13) ( 1, 47) ( 2, 46) ( 2, 84) ( 3, 38) ( 3, 39) ( 9, 10) ( 9, 91)\n",
            " (10, 91) (13, 20) (13, 47) (13, 80) (20, 80) (22, 59) (22, 95) (38, 39)\n",
            " (41, 55) (41, 89) (45, 54) (45, 93) (46, 84) (52, 57) (52, 82) (54, 93)\n",
            " (55, 89) (57, 82) (59, 95) (62, 74) (62, 82) (74, 82)]\n"
          ]
        }
      ],
      "source": [
        "faces = np.random.randint(0,100,(10,3))\n",
        "F = np.roll(faces.repeat(2,axis=1),-1,axis=1)\n",
        "F = F.reshape(len(F)*3,2)\n",
        "F = np.sort(F,axis=1)\n",
        "G = F.view( dtype=[('p0',F.dtype),('p1',F.dtype)] )\n",
        "G = np.unique(G)\n",
        "print(G)"
      ]
    },
    {
      "cell_type": "markdown",
      "metadata": {
        "id": "0Uj656EbjI2I"
      },
      "source": [
        "#### 74. Given an array C that is a bincount, how to produce an array A such that np.bincount(A) == C? (★★★) \n",
        "(**hint**: np.repeat)"
      ]
    },
    {
      "cell_type": "code",
      "execution_count": 128,
      "metadata": {
        "id": "UystVWQHjI2J",
        "colab": {
          "base_uri": "https://localhost:8080/"
        },
        "outputId": "54fc74f5-88a2-427f-f464-fec92b121a91"
      },
      "outputs": [
        {
          "output_type": "stream",
          "name": "stdout",
          "text": [
            "[1 1 2 3 4 4 6]\n"
          ]
        }
      ],
      "source": [
        "C = np.bincount([1,1,2,3,4,4,6])\n",
        "A = np.repeat(np.arange(len(C)), C)\n",
        "print(A)"
      ]
    },
    {
      "cell_type": "markdown",
      "metadata": {
        "id": "KOAKSh24jI2J"
      },
      "source": [
        "#### 75. How to compute averages using a sliding window over an array? (★★★) \n",
        "(**hint**: np.cumsum)"
      ]
    },
    {
      "cell_type": "code",
      "execution_count": 129,
      "metadata": {
        "id": "e10AXfTUjI2J",
        "colab": {
          "base_uri": "https://localhost:8080/"
        },
        "outputId": "a613f57d-9328-4b2f-b889-dbd1aeebdf9c"
      },
      "outputs": [
        {
          "output_type": "stream",
          "name": "stdout",
          "text": [
            "[ 1.  2.  3.  4.  5.  6.  7.  8.  9. 10. 11. 12. 13. 14. 15. 16. 17. 18.]\n"
          ]
        }
      ],
      "source": [
        "def moving_average(a, n=3) :\n",
        "    ret = np.cumsum(a, dtype=float)\n",
        "    ret[n:] = ret[n:] - ret[:-n]\n",
        "    return ret[n - 1:] / n\n",
        "Z = np.arange(20)\n",
        "print(moving_average(Z, n=3))"
      ]
    },
    {
      "cell_type": "markdown",
      "metadata": {
        "id": "Y6CmE_IwjI2J"
      },
      "source": [
        "#### 76. Consider a one-dimensional array Z, build a two-dimensional array whose first row is (Z\\[0\\],Z\\[1\\],Z\\[2\\]) and each subsequent row is  shifted by 1 (last row should be (Z\\[-3\\],Z\\[-2\\],Z\\[-1\\]) (★★★) \n",
        "(**hint**: from numpy.lib import stride_tricks)"
      ]
    },
    {
      "cell_type": "code",
      "execution_count": 130,
      "metadata": {
        "id": "yEQL-30EjI2J",
        "colab": {
          "base_uri": "https://localhost:8080/"
        },
        "outputId": "1c585de7-f9cb-4cf1-e099-b67d65edc2b4"
      },
      "outputs": [
        {
          "output_type": "stream",
          "name": "stdout",
          "text": [
            "[[0 1 2]\n",
            " [1 2 3]\n",
            " [2 3 4]\n",
            " [3 4 5]\n",
            " [4 5 6]\n",
            " [5 6 7]\n",
            " [6 7 8]\n",
            " [7 8 9]]\n"
          ]
        }
      ],
      "source": [
        "from numpy.lib import stride_tricks\n",
        "def rolling(a, window):\n",
        "    shape = (a.size - window + 1, window)\n",
        "    strides = (a.strides[0], a.strides[0])\n",
        "    return stride_tricks.as_strided(a, shape=shape, strides=strides)\n",
        "Z = rolling(np.arange(10), 3)\n",
        "print(Z)"
      ]
    },
    {
      "cell_type": "markdown",
      "metadata": {
        "id": "2AmFZhKJjI2J"
      },
      "source": [
        "#### 77. How to negate a boolean, or to change the sign of a float inplace? (★★★) \n",
        "(**hint**: np.logical_not, np.negative)"
      ]
    },
    {
      "cell_type": "code",
      "execution_count": 131,
      "metadata": {
        "id": "9LgVzXWqjI2K",
        "colab": {
          "base_uri": "https://localhost:8080/"
        },
        "outputId": "f6572e41-2738-4e2c-d977-6993ec28b18c"
      },
      "outputs": [
        {
          "output_type": "execute_result",
          "data": {
            "text/plain": [
              "array([ 7.23867758e-01,  2.13830904e-01,  4.18584978e-01, -1.76392346e-01,\n",
              "        3.99536367e-01, -2.52309144e-01, -7.28850248e-01,  4.67499124e-01,\n",
              "        2.01700259e-01, -9.90277933e-01, -5.82863276e-01,  7.80550025e-01,\n",
              "       -2.39377689e-01,  9.93024135e-01,  4.22351450e-01, -2.00762225e-02,\n",
              "        7.56184801e-01,  4.44346763e-01, -2.26878853e-01,  7.64850317e-01,\n",
              "        6.68109408e-01, -1.84269042e-01,  3.26871953e-01,  7.83260213e-01,\n",
              "       -9.61417253e-01, -4.68014487e-01,  4.57170726e-02,  7.18498395e-01,\n",
              "       -2.68029690e-02, -4.19188542e-01,  7.67918283e-01,  3.61019196e-01,\n",
              "       -4.88009470e-01,  3.36195069e-01, -1.01550410e-01, -4.51070052e-01,\n",
              "       -8.34608569e-01,  6.50993436e-01,  2.63415214e-01, -2.25450472e-01,\n",
              "        5.83389539e-03,  4.87750097e-01, -7.04726017e-01,  4.61229335e-01,\n",
              "        4.90623552e-01,  7.26412701e-01, -7.73395082e-01, -1.19944191e-02,\n",
              "       -5.23076520e-01,  3.43830725e-01, -2.15440287e-01, -7.66982103e-01,\n",
              "        4.76532106e-01,  2.65689866e-01,  5.94529406e-01,  3.21909376e-01,\n",
              "       -9.49207125e-01,  3.07588381e-02, -9.46232961e-02, -6.77166487e-01,\n",
              "        1.46486215e-01, -4.05123020e-02, -3.44847576e-01, -8.68456929e-01,\n",
              "       -9.86286334e-01, -6.91915125e-01, -7.23170970e-01,  2.39874329e-01,\n",
              "       -3.52524876e-01, -8.40206161e-01, -1.64947767e-01,  7.91388892e-01,\n",
              "       -2.96533798e-01, -9.53817854e-01,  3.16148644e-01, -8.44916172e-01,\n",
              "        7.65585120e-01,  9.93404242e-01,  7.38520359e-01,  4.19181480e-03,\n",
              "       -2.04210720e-01, -9.75501336e-01,  9.52059721e-04,  7.55884048e-01,\n",
              "        4.00745672e-01,  4.30179249e-01,  4.10767304e-01, -9.63128541e-01,\n",
              "       -8.63427332e-01, -5.47841562e-01,  7.85788883e-01,  2.34556885e-01,\n",
              "       -8.99964932e-02, -8.83618296e-01, -5.17875374e-01,  2.26596612e-01,\n",
              "       -5.69058909e-01, -4.10101455e-01, -3.36524084e-01, -5.60590704e-01])"
            ]
          },
          "metadata": {},
          "execution_count": 131
        }
      ],
      "source": [
        "Z = np.random.randint(0,2,100)\n",
        "np.logical_not(Z, out=Z)\n",
        "Z = np.random.uniform(-1.0,1.0,100)\n",
        "np.negative(Z, out=Z)"
      ]
    },
    {
      "cell_type": "markdown",
      "metadata": {
        "id": "rv07VBKAjI2K"
      },
      "source": [
        "#### 78. Consider 2 sets of points P0,P1 describing lines (2d) and a point p, how to compute distance from p to each line i  (P0\\[i\\],P1\\[i\\])? (★★★)"
      ]
    },
    {
      "cell_type": "code",
      "execution_count": 132,
      "metadata": {
        "id": "W49iidrjjI2K",
        "colab": {
          "base_uri": "https://localhost:8080/"
        },
        "outputId": "477b976e-a2dd-4ab5-923e-a418deecdc3c"
      },
      "outputs": [
        {
          "output_type": "stream",
          "name": "stdout",
          "text": [
            "[8.32656821 6.36507127 3.37865148 2.78431645 4.05113425 8.70384268\n",
            " 3.12520077 3.15788099 8.06935292 1.1278357 ]\n"
          ]
        }
      ],
      "source": [
        "def distance(P0, P1, p):\n",
        "    T = P1 - P0\n",
        "    L = (T**2).sum(axis=1)\n",
        "    U = -((P0[:,0]-p[...,0])*T[:,0] + (P0[:,1]-p[...,1])*T[:,1]) / L\n",
        "    U = U.reshape(len(U),1)\n",
        "    D = P0 + U*T - p\n",
        "    return np.sqrt((D**2).sum(axis=1))\n",
        "P0 = np.random.uniform(-10,10,(10,2))\n",
        "P1 = np.random.uniform(-10,10,(10,2))\n",
        "p  = np.random.uniform(-10,10,( 1,2))\n",
        "print(distance(P0, P1, p))"
      ]
    },
    {
      "cell_type": "markdown",
      "metadata": {
        "id": "7lHQq9l0jI2K"
      },
      "source": [
        "#### 79. Consider 2 sets of points P0,P1 describing lines (2d) and a set of points P, how to compute distance from each point j (P\\[j\\]) to each line i (P0\\[i\\],P1\\[i\\])? (★★★)"
      ]
    },
    {
      "cell_type": "code",
      "execution_count": 133,
      "metadata": {
        "id": "1Bnn5BxYjI2K",
        "colab": {
          "base_uri": "https://localhost:8080/"
        },
        "outputId": "bbd617a0-b976-4bbd-b8a6-f6684ca1ddf3"
      },
      "outputs": [
        {
          "output_type": "stream",
          "name": "stdout",
          "text": [
            "[[ 7.15111372  0.24442905  2.15848807 11.52544297  1.78992698  5.00637428\n",
            "  11.17913382  3.23073123 14.79038053 11.62734115]\n",
            " [ 3.10847915  3.66952176  1.97340895  0.73118887 11.44776934  2.54092925\n",
            "   4.91622824  5.95378646  0.92700357  3.98159504]\n",
            " [ 8.47127572  1.85202099  0.22959529  4.70418411 17.09991069  7.44172627\n",
            "  10.18950974  3.74387215  6.37429065  9.46207393]\n",
            " [ 8.75429329  4.47913398  2.58658229 12.92645292  2.10831825  7.50557248\n",
            "   9.3580883   7.82265334 13.42340796 10.36754147]\n",
            " [ 4.3978763   0.50911122  2.37837826  8.69914916  1.3311263   2.65568211\n",
            "   7.92860145  2.72477857 11.51480265  8.35027298]\n",
            " [ 8.03086723 11.18798276 12.95382159  3.5514844  12.30912386 10.30209851\n",
            "   0.96306492  8.47842773  3.52402968  0.13213253]\n",
            " [ 5.02798919  2.39769885  0.54782318  9.19355615  1.55051517  3.89778624\n",
            "   6.35926162  5.51730083 10.22494581  7.12697301]\n",
            " [ 5.85960018  2.04390272  3.95439814 10.28937841  0.8754465   3.4892409\n",
            "  11.01594921  1.41785243 14.45431551 11.25160195]\n",
            " [ 1.479364    1.95467165  0.21256434  2.50375562  8.98709736  1.61297811\n",
            "   1.47183399  4.49315209  2.3522127   0.74503537]\n",
            " [ 3.41414826  5.63904003  7.42681947  0.9143412   8.7503253   5.09744623\n",
            "   2.26450367  2.82894643  5.3584759   2.08784492]]\n"
          ]
        }
      ],
      "source": [
        "P0 = np.random.uniform(-10, 10, (10,2))\n",
        "P1 = np.random.uniform(-10,10,(10,2))\n",
        "p = np.random.uniform(-10, 10, (10,2))\n",
        "print(np.array([distance(P0,P1,p_i) for p_i in p]))"
      ]
    },
    {
      "cell_type": "markdown",
      "metadata": {
        "id": "BUV74VPGjI2L"
      },
      "source": [
        "#### 80. Consider an arbitrary array, write a function that extract a subpart with a fixed shape and centered on a given element (pad with a `fill` value when necessary) (★★★) \n",
        "(**hint**: minimum, maximum)"
      ]
    },
    {
      "cell_type": "code",
      "execution_count": 134,
      "metadata": {
        "id": "Qaz_2R7BjI2L",
        "colab": {
          "base_uri": "https://localhost:8080/"
        },
        "outputId": "69c48e74-7cfc-4187-d6b9-d0a055a7e34f"
      },
      "outputs": [
        {
          "output_type": "stream",
          "name": "stdout",
          "text": [
            "[[9 3 9 2 6 8 4 0 1 9]\n",
            " [7 5 6 6 1 1 4 2 6 5]\n",
            " [4 9 5 3 0 1 6 5 2 2]\n",
            " [9 8 8 4 6 6 5 3 6 6]\n",
            " [6 6 2 0 6 7 2 8 3 4]\n",
            " [5 0 4 3 0 1 9 0 9 1]\n",
            " [4 8 8 6 8 0 4 3 0 6]\n",
            " [6 1 0 8 5 5 2 1 3 2]\n",
            " [6 4 4 3 5 8 0 5 8 8]\n",
            " [2 1 9 1 0 8 0 6 5 8]]\n",
            "[[0 0 0 0 0]\n",
            " [0 9 3 9 2]\n",
            " [0 7 5 6 6]\n",
            " [0 4 9 5 3]\n",
            " [0 9 8 8 4]]\n"
          ]
        },
        {
          "output_type": "stream",
          "name": "stderr",
          "text": [
            "/usr/local/lib/python3.7/dist-packages/ipykernel_launcher.py:19: FutureWarning: Using a non-tuple sequence for multidimensional indexing is deprecated; use `arr[tuple(seq)]` instead of `arr[seq]`. In the future this will be interpreted as an array index, `arr[np.array(seq)]`, which will result either in an error or a different result.\n"
          ]
        }
      ],
      "source": [
        "Z = np.random.randint(0,10,(10,10))\n",
        "shape = (5,5)\n",
        "fill  = 0\n",
        "position = (1,1)\n",
        "\n",
        "R = np.ones(shape, dtype=Z.dtype)*fill\n",
        "P  = np.array(list(position)).astype(int)\n",
        "Rs = np.array(list(R.shape)).astype(int)\n",
        "Zs = np.array(list(Z.shape)).astype(int)\n",
        "\n",
        "R_start = np.zeros((len(shape),)).astype(int)\n",
        "R_stop  = np.array(list(shape)).astype(int)\n",
        "Z_start = (P-Rs//2)\n",
        "Z_stop  = (P+Rs//2)+Rs%2\n",
        "\n",
        "R_start = (R_start - np.minimum(Z_start,0)).tolist()\n",
        "Z_start = (np.maximum(Z_start,0)).tolist()\n",
        "R_stop = np.maximum(R_start, (R_stop - np.maximum(Z_stop-Zs,0))).tolist()\n",
        "Z_stop = (np.minimum(Z_stop,Zs)).tolist()\n",
        "\n",
        "r = [slice(start,stop) for start,stop in zip(R_start,R_stop)]\n",
        "z = [slice(start,stop) for start,stop in zip(Z_start,Z_stop)]\n",
        "R[r] = Z[z]\n",
        "print(Z)\n",
        "print(R)"
      ]
    },
    {
      "cell_type": "markdown",
      "metadata": {
        "id": "IJwHHZ9YjI2L"
      },
      "source": [
        "#### 81. Consider an array Z = \\[1,2,3,4,5,6,7,8,9,10,11,12,13,14\\], how to generate an array R = \\[\\[1,2,3,4\\], \\[2,3,4,5\\], \\[3,4,5,6\\], ..., \\[11,12,13,14\\]\\]? (★★★) \n",
        "(**hint**: stride\\_tricks.as\\_strided)"
      ]
    },
    {
      "cell_type": "code",
      "execution_count": 135,
      "metadata": {
        "id": "VayqhlBljI2M",
        "colab": {
          "base_uri": "https://localhost:8080/"
        },
        "outputId": "76af9154-a6b6-432d-d5f8-c4e3ac60cd87"
      },
      "outputs": [
        {
          "output_type": "stream",
          "name": "stdout",
          "text": [
            "[[ 1  2  3  4]\n",
            " [ 2  3  4  5]\n",
            " [ 3  4  5  6]\n",
            " [ 4  5  6  7]\n",
            " [ 5  6  7  8]\n",
            " [ 6  7  8  9]\n",
            " [ 7  8  9 10]\n",
            " [ 8  9 10 11]\n",
            " [ 9 10 11 12]\n",
            " [10 11 12 13]\n",
            " [11 12 13 14]]\n"
          ]
        }
      ],
      "source": [
        "Z = np.arange(1,15,dtype=np.uint32)\n",
        "R = stride_tricks.as_strided(Z,(11,4),(4,4))\n",
        "print(R)\n"
      ]
    },
    {
      "cell_type": "markdown",
      "metadata": {
        "id": "X0-n1VGXjI2M"
      },
      "source": [
        "#### 82. Compute a matrix rank (★★★) \n",
        "(**hint**: np.linalg.svd) (suggestion: np.linalg.svd)"
      ]
    },
    {
      "cell_type": "code",
      "execution_count": 136,
      "metadata": {
        "id": "K8hRknBvjI2M",
        "colab": {
          "base_uri": "https://localhost:8080/"
        },
        "outputId": "41941914-1ab2-4734-a8b1-6fa027c8466b"
      },
      "outputs": [
        {
          "output_type": "stream",
          "name": "stdout",
          "text": [
            "10\n"
          ]
        }
      ],
      "source": [
        "x = np.random.uniform(0,1,(10,10))\n",
        "U, S, V = np.linalg.svd(x) \n",
        "rank = np.sum(S > 1e-10)\n",
        "print(rank)"
      ]
    },
    {
      "cell_type": "markdown",
      "metadata": {
        "id": "ciE4avNIjI2M"
      },
      "source": [
        "#### 83. How to find the most frequent value in an array? \n",
        "(**hint**: np.bincount, argmax)"
      ]
    },
    {
      "cell_type": "code",
      "execution_count": 140,
      "metadata": {
        "id": "xzEzSBlqjI2N",
        "colab": {
          "base_uri": "https://localhost:8080/"
        },
        "outputId": "948bbcd7-5666-49a8-991a-19307c5a901f"
      },
      "outputs": [
        {
          "output_type": "stream",
          "name": "stdout",
          "text": [
            "0\n"
          ]
        }
      ],
      "source": [
        "x = np.random.randint(0,1,2)\n",
        "print(np.bincount(x).argmax())"
      ]
    },
    {
      "cell_type": "markdown",
      "metadata": {
        "id": "aYKiXpn1jI2N"
      },
      "source": [
        "#### 84. Extract all the contiguous 3x3 blocks from a random 10x10 matrix (★★★) \n",
        "(**hint**: stride\\_tricks.as\\_strided)"
      ]
    },
    {
      "cell_type": "code",
      "execution_count": 141,
      "metadata": {
        "id": "PZQ47oE2jI2N",
        "colab": {
          "base_uri": "https://localhost:8080/"
        },
        "outputId": "05e61758-814e-460d-fc29-fb2a00d12756"
      },
      "outputs": [
        {
          "output_type": "stream",
          "name": "stdout",
          "text": [
            "[[[[4 3 0]\n",
            "   [3 4 0]\n",
            "   [0 2 1]]\n",
            "\n",
            "  [[3 0 0]\n",
            "   [4 0 2]\n",
            "   [2 1 2]]\n",
            "\n",
            "  [[0 0 2]\n",
            "   [0 2 1]\n",
            "   [1 2 1]]\n",
            "\n",
            "  [[0 2 2]\n",
            "   [2 1 4]\n",
            "   [2 1 2]]\n",
            "\n",
            "  [[2 2 0]\n",
            "   [1 4 0]\n",
            "   [1 2 2]]\n",
            "\n",
            "  [[2 0 0]\n",
            "   [4 0 3]\n",
            "   [2 2 0]]\n",
            "\n",
            "  [[0 0 1]\n",
            "   [0 3 2]\n",
            "   [2 0 0]]\n",
            "\n",
            "  [[0 1 1]\n",
            "   [3 2 0]\n",
            "   [0 0 2]]]\n",
            "\n",
            "\n",
            " [[[3 4 0]\n",
            "   [0 2 1]\n",
            "   [2 3 0]]\n",
            "\n",
            "  [[4 0 2]\n",
            "   [2 1 2]\n",
            "   [3 0 1]]\n",
            "\n",
            "  [[0 2 1]\n",
            "   [1 2 1]\n",
            "   [0 1 4]]\n",
            "\n",
            "  [[2 1 4]\n",
            "   [2 1 2]\n",
            "   [1 4 3]]\n",
            "\n",
            "  [[1 4 0]\n",
            "   [1 2 2]\n",
            "   [4 3 1]]\n",
            "\n",
            "  [[4 0 3]\n",
            "   [2 2 0]\n",
            "   [3 1 3]]\n",
            "\n",
            "  [[0 3 2]\n",
            "   [2 0 0]\n",
            "   [1 3 0]]\n",
            "\n",
            "  [[3 2 0]\n",
            "   [0 0 2]\n",
            "   [3 0 2]]]\n",
            "\n",
            "\n",
            " [[[0 2 1]\n",
            "   [2 3 0]\n",
            "   [1 1 2]]\n",
            "\n",
            "  [[2 1 2]\n",
            "   [3 0 1]\n",
            "   [1 2 1]]\n",
            "\n",
            "  [[1 2 1]\n",
            "   [0 1 4]\n",
            "   [2 1 3]]\n",
            "\n",
            "  [[2 1 2]\n",
            "   [1 4 3]\n",
            "   [1 3 4]]\n",
            "\n",
            "  [[1 2 2]\n",
            "   [4 3 1]\n",
            "   [3 4 1]]\n",
            "\n",
            "  [[2 2 0]\n",
            "   [3 1 3]\n",
            "   [4 1 2]]\n",
            "\n",
            "  [[2 0 0]\n",
            "   [1 3 0]\n",
            "   [1 2 1]]\n",
            "\n",
            "  [[0 0 2]\n",
            "   [3 0 2]\n",
            "   [2 1 2]]]\n",
            "\n",
            "\n",
            " [[[2 3 0]\n",
            "   [1 1 2]\n",
            "   [2 2 3]]\n",
            "\n",
            "  [[3 0 1]\n",
            "   [1 2 1]\n",
            "   [2 3 1]]\n",
            "\n",
            "  [[0 1 4]\n",
            "   [2 1 3]\n",
            "   [3 1 4]]\n",
            "\n",
            "  [[1 4 3]\n",
            "   [1 3 4]\n",
            "   [1 4 3]]\n",
            "\n",
            "  [[4 3 1]\n",
            "   [3 4 1]\n",
            "   [4 3 2]]\n",
            "\n",
            "  [[3 1 3]\n",
            "   [4 1 2]\n",
            "   [3 2 0]]\n",
            "\n",
            "  [[1 3 0]\n",
            "   [1 2 1]\n",
            "   [2 0 3]]\n",
            "\n",
            "  [[3 0 2]\n",
            "   [2 1 2]\n",
            "   [0 3 2]]]\n",
            "\n",
            "\n",
            " [[[1 1 2]\n",
            "   [2 2 3]\n",
            "   [2 2 3]]\n",
            "\n",
            "  [[1 2 1]\n",
            "   [2 3 1]\n",
            "   [2 3 2]]\n",
            "\n",
            "  [[2 1 3]\n",
            "   [3 1 4]\n",
            "   [3 2 3]]\n",
            "\n",
            "  [[1 3 4]\n",
            "   [1 4 3]\n",
            "   [2 3 0]]\n",
            "\n",
            "  [[3 4 1]\n",
            "   [4 3 2]\n",
            "   [3 0 1]]\n",
            "\n",
            "  [[4 1 2]\n",
            "   [3 2 0]\n",
            "   [0 1 4]]\n",
            "\n",
            "  [[1 2 1]\n",
            "   [2 0 3]\n",
            "   [1 4 1]]\n",
            "\n",
            "  [[2 1 2]\n",
            "   [0 3 2]\n",
            "   [4 1 0]]]\n",
            "\n",
            "\n",
            " [[[2 2 3]\n",
            "   [2 2 3]\n",
            "   [2 4 2]]\n",
            "\n",
            "  [[2 3 1]\n",
            "   [2 3 2]\n",
            "   [4 2 4]]\n",
            "\n",
            "  [[3 1 4]\n",
            "   [3 2 3]\n",
            "   [2 4 0]]\n",
            "\n",
            "  [[1 4 3]\n",
            "   [2 3 0]\n",
            "   [4 0 3]]\n",
            "\n",
            "  [[4 3 2]\n",
            "   [3 0 1]\n",
            "   [0 3 3]]\n",
            "\n",
            "  [[3 2 0]\n",
            "   [0 1 4]\n",
            "   [3 3 3]]\n",
            "\n",
            "  [[2 0 3]\n",
            "   [1 4 1]\n",
            "   [3 3 2]]\n",
            "\n",
            "  [[0 3 2]\n",
            "   [4 1 0]\n",
            "   [3 2 1]]]\n",
            "\n",
            "\n",
            " [[[2 2 3]\n",
            "   [2 4 2]\n",
            "   [0 1 3]]\n",
            "\n",
            "  [[2 3 2]\n",
            "   [4 2 4]\n",
            "   [1 3 1]]\n",
            "\n",
            "  [[3 2 3]\n",
            "   [2 4 0]\n",
            "   [3 1 2]]\n",
            "\n",
            "  [[2 3 0]\n",
            "   [4 0 3]\n",
            "   [1 2 4]]\n",
            "\n",
            "  [[3 0 1]\n",
            "   [0 3 3]\n",
            "   [2 4 4]]\n",
            "\n",
            "  [[0 1 4]\n",
            "   [3 3 3]\n",
            "   [4 4 3]]\n",
            "\n",
            "  [[1 4 1]\n",
            "   [3 3 2]\n",
            "   [4 3 1]]\n",
            "\n",
            "  [[4 1 0]\n",
            "   [3 2 1]\n",
            "   [3 1 4]]]\n",
            "\n",
            "\n",
            " [[[2 4 2]\n",
            "   [0 1 3]\n",
            "   [4 4 0]]\n",
            "\n",
            "  [[4 2 4]\n",
            "   [1 3 1]\n",
            "   [4 0 3]]\n",
            "\n",
            "  [[2 4 0]\n",
            "   [3 1 2]\n",
            "   [0 3 2]]\n",
            "\n",
            "  [[4 0 3]\n",
            "   [1 2 4]\n",
            "   [3 2 0]]\n",
            "\n",
            "  [[0 3 3]\n",
            "   [2 4 4]\n",
            "   [2 0 2]]\n",
            "\n",
            "  [[3 3 3]\n",
            "   [4 4 3]\n",
            "   [0 2 0]]\n",
            "\n",
            "  [[3 3 2]\n",
            "   [4 3 1]\n",
            "   [2 0 0]]\n",
            "\n",
            "  [[3 2 1]\n",
            "   [3 1 4]\n",
            "   [0 0 0]]]]\n"
          ]
        }
      ],
      "source": [
        "Z = np.random.randint(0,5,(10,10))\n",
        "n = 3\n",
        "i = 1 + (Z.shape[0]-3)\n",
        "j = 1 + (Z.shape[1]-3)\n",
        "C = stride_tricks.as_strided(Z, shape=(i, j, n, n), strides=Z.strides + Z.strides)\n",
        "print(C)"
      ]
    },
    {
      "cell_type": "markdown",
      "metadata": {
        "id": "0QDNKdxdjI2N"
      },
      "source": [
        "#### 85. Create a 2D array subclass such that Z\\[i,j\\] == Z\\[j,i\\] (★★★) \n",
        "(**hint**: class method)"
      ]
    },
    {
      "cell_type": "code",
      "execution_count": 142,
      "metadata": {
        "id": "nkgm0qiDjI2N",
        "colab": {
          "base_uri": "https://localhost:8080/"
        },
        "outputId": "97facfdb-e349-445f-f9eb-ef40a4de4c4f"
      },
      "outputs": [
        {
          "output_type": "stream",
          "name": "stdout",
          "text": [
            "[[ 4  1 10  7  5]\n",
            " [ 1  5 13 11 11]\n",
            " [10 13  9 42  3]\n",
            " [ 7 11 42  7  9]\n",
            " [ 5 11  3  9  0]]\n"
          ]
        }
      ],
      "source": [
        "class Symetric(np.ndarray):\n",
        "    def __setitem__(self, index, value):\n",
        "        i,j = index\n",
        "        super(Symetric, self).__setitem__((i,j), value)\n",
        "        super(Symetric, self).__setitem__((j,i), value)\n",
        "def symetric(Z):\n",
        "    return np.asarray(Z + Z.T - np.diag(Z.diagonal())).view(Symetric)\n",
        "S = symetric(np.random.randint(0,10,(5,5)))\n",
        "S[2,3] = 42\n",
        "print(S)"
      ]
    },
    {
      "cell_type": "markdown",
      "metadata": {
        "id": "n_18TjKIjI2O"
      },
      "source": [
        "#### 86. Consider a set of p matrices wich shape (n,n) and a set of p vectors with shape (n,1). How to compute the sum of of the p matrix products at once? (result has shape (n,1)) (★★★) \n",
        "(**hint**: np.tensordot)"
      ]
    },
    {
      "cell_type": "code",
      "execution_count": 143,
      "metadata": {
        "id": "IreP7NfejI2O",
        "colab": {
          "base_uri": "https://localhost:8080/"
        },
        "outputId": "ba199ad6-641f-41eb-fda5-30502a03f3e8"
      },
      "outputs": [
        {
          "output_type": "stream",
          "name": "stdout",
          "text": [
            "[[200.]\n",
            " [200.]\n",
            " [200.]\n",
            " [200.]\n",
            " [200.]\n",
            " [200.]\n",
            " [200.]\n",
            " [200.]\n",
            " [200.]\n",
            " [200.]\n",
            " [200.]\n",
            " [200.]\n",
            " [200.]\n",
            " [200.]\n",
            " [200.]\n",
            " [200.]\n",
            " [200.]\n",
            " [200.]\n",
            " [200.]\n",
            " [200.]]\n"
          ]
        }
      ],
      "source": [
        "p, n = 10, 20\n",
        "M = np.ones((p,n,n))\n",
        "V = np.ones((p,n,1))\n",
        "S = np.tensordot(M, V, axes=[[0, 2], [0, 1]])\n",
        "print(S)"
      ]
    },
    {
      "cell_type": "markdown",
      "metadata": {
        "id": "_HqQ4ktIjI2P"
      },
      "source": [
        "#### 87. Consider a 16x16 array, how to get the block-sum (block size is 4x4)? (★★★) \n",
        "(**hint**: np.add.reduceat)"
      ]
    },
    {
      "cell_type": "code",
      "execution_count": 144,
      "metadata": {
        "id": "r19xgLc0jI2P",
        "colab": {
          "base_uri": "https://localhost:8080/"
        },
        "outputId": "bcc5a3b7-f776-4727-ad63-f29169debe84"
      },
      "outputs": [
        {
          "output_type": "stream",
          "name": "stdout",
          "text": [
            "[[16. 16. 16. 16.]\n",
            " [16. 16. 16. 16.]\n",
            " [16. 16. 16. 16.]\n",
            " [16. 16. 16. 16.]]\n"
          ]
        }
      ],
      "source": [
        "x = np.ones((16,16))\n",
        "y = 4\n",
        "z = np.add.reduceat(np.add.reduceat(x, np.arange(0, x.shape[0], y), axis=0),\n",
        "                                       np.arange(0, x.shape[1], y), axis=1)\n",
        "print(z)\n"
      ]
    },
    {
      "cell_type": "markdown",
      "metadata": {
        "id": "4FdTKkIxjI2P"
      },
      "source": [
        "#### 88. How to implement the Game of Life using numpy arrays? (★★★)"
      ]
    },
    {
      "cell_type": "code",
      "execution_count": 146,
      "metadata": {
        "id": "VsSgAOtWjI2P",
        "colab": {
          "base_uri": "https://localhost:8080/"
        },
        "outputId": "ade8a59a-6da8-4a5b-9971-9cef797452d3"
      },
      "outputs": [
        {
          "output_type": "stream",
          "name": "stdout",
          "text": [
            "[[0 0 0 0 0 0 0 0 0 0 0 0 0 0 0 0 0 0 0 0 0 0 0 0 0 0 0 0 0 0 0 0 0 0 0 0\n",
            "  0 0 0 0 0 0 0 0 0 0 0 0 0 0]\n",
            " [0 0 0 0 0 0 0 0 0 0 0 0 0 0 0 0 0 0 0 0 0 0 0 0 0 0 0 0 0 0 0 0 0 0 0 0\n",
            "  0 0 0 0 0 0 0 0 0 0 0 0 0 0]\n",
            " [0 0 0 0 0 0 0 0 0 0 0 0 0 0 0 0 0 0 0 0 0 0 0 0 0 0 0 0 0 0 0 0 1 1 0 0\n",
            "  0 0 0 0 0 1 1 1 0 0 0 0 0 0]\n",
            " [0 0 0 0 0 0 0 0 0 0 0 0 0 0 0 0 0 0 0 0 0 0 0 0 0 0 0 0 0 0 0 0 1 1 0 0\n",
            "  0 0 0 0 0 0 0 0 0 0 0 0 0 0]\n",
            " [0 0 0 0 0 0 0 0 0 0 0 0 0 0 0 0 0 0 0 0 0 0 0 0 0 0 0 0 0 0 0 0 0 0 0 0\n",
            "  0 0 0 0 0 0 0 0 0 1 0 0 0 0]\n",
            " [0 0 0 0 0 0 0 0 0 0 0 0 0 0 0 0 0 0 0 0 0 0 0 0 0 0 0 0 0 0 0 0 0 0 0 0\n",
            "  0 0 0 0 0 0 0 0 0 1 0 0 0 0]\n",
            " [0 0 0 0 0 0 0 0 0 0 0 0 0 0 0 0 0 0 0 0 0 0 0 0 0 0 0 0 0 0 0 0 0 0 0 0\n",
            "  0 0 0 0 0 0 0 0 0 1 0 0 0 0]\n",
            " [0 0 0 0 0 0 0 0 0 0 0 0 0 0 0 0 0 0 0 0 0 0 0 0 0 0 0 0 0 0 0 0 0 0 0 0\n",
            "  0 0 0 0 0 0 0 0 0 0 0 0 0 0]\n",
            " [0 0 0 0 0 0 0 0 0 0 0 0 0 0 0 0 0 0 0 0 0 0 0 0 0 0 0 0 0 0 0 0 0 0 0 0\n",
            "  0 0 0 0 0 0 0 0 0 0 0 0 0 0]\n",
            " [0 0 0 0 0 0 0 0 0 0 0 0 0 0 0 0 0 0 0 0 0 0 0 0 0 0 0 0 0 0 0 0 0 0 0 0\n",
            "  0 0 0 0 0 0 0 0 0 0 0 0 0 0]\n",
            " [0 0 0 0 0 0 0 0 0 0 0 0 0 0 0 0 0 0 0 0 0 0 0 0 0 0 0 0 0 0 0 0 0 0 0 0\n",
            "  0 0 0 0 0 0 0 0 0 0 0 0 0 0]\n",
            " [0 0 0 0 0 0 0 0 0 0 0 0 0 0 0 0 0 0 0 0 0 0 0 0 0 0 0 0 0 0 0 0 0 0 0 0\n",
            "  0 0 0 0 0 0 0 0 0 0 0 0 0 0]\n",
            " [0 0 0 0 0 0 0 0 0 0 0 0 0 0 0 0 0 0 0 0 0 0 0 0 0 0 0 0 0 0 0 0 0 0 0 0\n",
            "  0 1 1 0 0 0 0 0 0 0 0 0 0 0]\n",
            " [0 0 0 0 0 0 0 0 0 0 0 0 0 0 0 0 0 0 0 0 0 0 0 0 0 0 0 0 0 0 0 0 0 0 0 0\n",
            "  0 1 1 0 0 0 0 0 0 0 0 0 0 0]\n",
            " [0 0 0 0 0 0 0 0 0 0 0 0 0 0 0 0 0 0 0 0 0 0 0 0 0 0 0 0 0 0 0 0 0 0 0 0\n",
            "  0 0 0 0 0 0 0 0 0 0 0 0 0 0]\n",
            " [0 0 0 0 0 0 0 0 0 0 1 1 0 0 0 0 0 0 0 0 0 0 0 0 0 0 0 0 0 0 0 0 0 0 0 0\n",
            "  0 0 0 0 0 0 0 0 0 0 0 0 0 0]\n",
            " [0 0 0 0 0 0 0 0 0 0 1 1 0 0 0 0 0 0 0 0 0 0 0 0 0 0 0 0 0 0 0 0 0 0 0 0\n",
            "  0 0 0 0 0 0 0 0 0 0 0 0 0 0]\n",
            " [0 0 0 0 0 0 0 0 0 1 0 0 1 0 0 0 0 0 0 0 0 0 0 0 0 0 0 0 0 0 0 0 0 0 0 0\n",
            "  0 0 0 0 0 0 0 0 0 0 0 0 0 0]\n",
            " [0 0 0 0 0 0 0 0 0 1 1 1 0 0 0 0 0 0 0 0 0 0 0 0 0 0 0 0 0 0 0 0 0 0 0 0\n",
            "  0 0 0 0 0 0 0 0 0 0 0 0 0 0]\n",
            " [0 0 0 0 0 0 0 1 1 0 0 1 0 0 0 0 0 0 0 0 0 0 0 0 0 0 0 0 0 0 0 0 0 0 0 0\n",
            "  0 0 0 0 0 0 0 0 0 0 0 0 0 0]\n",
            " [0 0 0 0 0 1 1 0 1 0 0 0 0 0 0 0 0 0 0 0 0 0 0 0 0 0 0 0 0 0 0 0 0 0 0 0\n",
            "  0 0 0 0 0 0 0 0 0 0 0 0 0 0]\n",
            " [0 0 0 0 0 1 1 0 1 1 0 0 0 0 0 0 0 0 0 0 0 0 0 0 0 0 0 0 0 0 0 0 0 0 0 0\n",
            "  1 1 1 0 0 0 0 0 0 0 0 0 0 0]\n",
            " [0 0 0 0 0 0 0 1 0 0 0 0 0 0 0 0 0 0 0 0 0 0 0 0 0 0 0 0 1 1 0 0 0 0 1 1\n",
            "  0 0 0 1 0 0 0 0 0 0 0 0 0 0]\n",
            " [0 0 0 0 0 0 0 0 0 0 0 0 0 0 0 0 0 0 0 0 0 0 0 0 0 0 0 0 1 1 1 0 1 1 0 0\n",
            "  0 0 1 0 0 0 0 0 0 0 0 0 0 0]\n",
            " [0 0 0 0 0 0 0 0 0 0 0 0 0 0 0 0 0 0 0 0 0 0 0 0 0 0 0 0 0 0 0 1 0 0 0 0\n",
            "  1 0 0 0 1 1 0 0 0 0 0 0 0 0]\n",
            " [0 0 0 0 0 0 0 0 0 0 0 0 0 0 0 0 0 0 0 0 0 0 0 0 0 0 0 0 1 0 0 0 0 1 1 1\n",
            "  0 0 0 0 1 0 1 0 0 0 0 0 0 0]\n",
            " [0 0 0 0 0 0 0 0 0 0 0 0 0 0 0 0 1 1 0 0 0 0 0 0 0 0 0 1 1 0 0 1 1 0 0 0\n",
            "  1 1 0 1 1 0 0 0 0 0 0 0 0 0]\n",
            " [0 0 0 0 0 0 0 0 0 0 0 0 0 0 0 0 1 1 0 0 0 0 0 0 0 0 0 0 0 0 1 1 0 0 0 0\n",
            "  1 1 1 0 1 0 0 0 0 0 0 0 0 0]\n",
            " [0 0 0 0 0 0 0 0 0 0 0 0 0 0 0 0 0 0 0 0 0 0 0 0 0 0 0 0 1 0 0 0 0 0 0 0\n",
            "  1 0 1 0 1 1 0 0 0 0 0 0 0 0]\n",
            " [0 0 0 0 0 0 0 0 0 0 0 0 0 0 0 0 0 0 0 0 0 0 0 0 1 0 1 0 1 0 0 0 0 0 0 0\n",
            "  0 0 1 0 0 0 0 0 0 0 0 0 0 0]\n",
            " [0 0 0 0 0 0 0 0 0 0 0 0 0 0 0 0 0 0 0 0 0 0 0 0 0 1 1 1 0 0 0 0 0 0 0 0\n",
            "  0 0 1 0 0 0 0 0 0 0 0 0 0 0]\n",
            " [0 0 0 0 0 0 0 0 0 0 0 0 0 0 0 0 0 0 1 0 0 0 0 0 0 0 0 0 0 0 0 1 0 0 0 0\n",
            "  0 1 0 0 1 0 0 0 0 0 0 0 0 0]\n",
            " [0 0 0 0 0 0 0 0 0 0 0 0 0 0 0 0 0 1 1 1 0 0 0 0 0 0 0 0 0 0 0 0 1 0 0 0\n",
            "  0 1 0 0 0 0 1 0 0 0 0 0 0 0]\n",
            " [0 0 0 0 0 0 0 0 0 0 0 0 0 0 0 0 1 0 0 1 1 0 0 0 0 0 0 0 0 1 0 0 1 0 0 0\n",
            "  0 1 0 1 1 0 0 0 0 0 0 0 0 0]\n",
            " [0 0 0 0 0 0 0 0 0 0 0 0 0 0 0 0 0 0 0 0 0 1 0 0 0 0 0 0 0 0 0 0 0 0 0 1\n",
            "  0 0 0 0 0 0 0 0 0 0 0 0 0 0]\n",
            " [0 0 0 0 0 0 0 0 0 0 0 0 0 0 0 0 0 0 1 0 0 0 1 0 0 0 0 0 1 0 0 1 0 1 1 1\n",
            "  1 0 0 0 0 0 0 0 0 0 0 0 0 0]\n",
            " [0 0 0 0 0 0 0 0 0 0 0 0 0 1 0 0 0 0 1 1 0 0 1 1 0 0 0 0 1 0 0 0 1 1 0 0\n",
            "  0 1 0 0 0 0 0 0 0 0 0 0 0 0]\n",
            " [0 0 0 0 0 0 0 0 0 0 0 0 0 1 0 1 0 1 0 0 1 0 0 1 1 0 0 0 0 1 1 1 0 0 0 1\n",
            "  1 0 0 0 0 0 0 0 0 0 0 0 0 0]\n",
            " [0 0 0 0 0 0 0 0 0 0 0 0 0 0 0 0 0 0 0 0 0 0 1 1 0 0 0 0 0 0 0 0 0 1 1 1\n",
            "  1 1 0 0 0 0 0 0 0 0 0 0 0 0]\n",
            " [0 0 0 0 0 0 0 0 0 0 0 0 0 0 0 0 0 1 0 0 1 1 1 0 0 0 0 0 0 0 0 0 1 1 0 0\n",
            "  0 1 1 0 0 0 0 0 0 0 0 0 0 0]\n",
            " [0 0 0 0 0 0 0 0 0 0 0 0 0 0 0 0 0 1 0 1 1 0 0 0 0 0 0 0 0 0 0 0 0 0 0 0\n",
            "  0 1 0 1 0 0 0 0 0 0 0 0 0 0]\n",
            " [0 0 1 0 0 0 0 0 0 0 0 0 0 0 0 0 0 0 1 0 0 0 0 0 0 0 0 0 0 0 0 0 0 0 0 0\n",
            "  0 0 1 1 0 0 0 0 0 0 0 0 0 0]\n",
            " [0 1 0 1 0 0 0 0 0 0 0 0 0 0 0 0 0 0 0 1 1 0 0 0 0 0 0 0 0 0 0 0 0 0 0 0\n",
            "  0 0 0 0 0 0 0 0 0 0 0 0 0 0]\n",
            " [0 1 0 1 0 0 0 0 0 0 0 0 0 0 0 0 0 1 0 1 1 1 1 1 0 0 0 0 0 0 0 1 1 0 0 0\n",
            "  0 0 0 0 0 0 0 0 0 0 0 0 0 0]\n",
            " [0 0 1 0 0 0 0 0 0 0 0 0 0 0 0 0 1 0 0 0 0 0 1 0 0 0 0 0 0 0 0 1 1 0 0 0\n",
            "  0 0 0 0 0 0 0 0 0 0 0 0 0 0]\n",
            " [0 0 0 0 0 0 0 0 0 0 0 1 0 0 0 0 0 0 0 0 0 0 0 0 1 1 0 0 0 0 0 0 0 0 0 0\n",
            "  0 0 0 0 0 0 0 0 0 0 0 0 0 0]\n",
            " [0 0 0 0 0 0 0 0 0 0 1 0 1 0 0 0 1 0 1 1 0 0 0 1 1 0 0 0 0 0 0 0 0 0 0 0\n",
            "  0 0 0 0 0 0 0 0 0 0 0 0 0 0]\n",
            " [0 0 0 0 0 0 0 0 0 0 0 1 0 0 0 1 0 0 0 0 0 0 0 1 1 0 0 0 0 0 0 0 0 0 0 0\n",
            "  0 0 0 0 0 0 0 0 0 0 0 0 0 0]\n",
            " [0 0 0 0 0 0 0 0 0 0 0 0 0 0 0 0 1 1 0 0 1 1 1 0 0 0 0 0 0 0 0 0 0 0 0 0\n",
            "  0 0 0 0 0 0 0 0 0 0 0 0 0 0]\n",
            " [0 0 0 0 0 0 0 0 0 0 0 0 0 0 0 0 0 0 0 0 0 0 0 0 0 0 0 0 0 0 0 0 0 0 0 0\n",
            "  0 0 0 0 0 0 0 0 0 0 0 0 0 0]]\n"
          ]
        }
      ],
      "source": [
        "def iterate(Z):\n",
        "    \n",
        "    N = (Z[0:-2,0:-2] + Z[0:-2,1:-1] + Z[0:-2,2:] +\n",
        "         Z[1:-1,0:-2]                + Z[1:-1,2:] +\n",
        "         Z[2:  ,0:-2] + Z[2:  ,1:-1] + Z[2:  ,2:])\n",
        "    \n",
        "    birth = (N==3) & (Z[1:-1,1:-1]==0)\n",
        "    survive = ((N==2) | (N==3)) & (Z[1:-1,1:-1]==1)\n",
        "    Z[...] = 0\n",
        "    Z[1:-1,1:-1][birth | survive] = 1\n",
        "    return Z\n",
        "    \n",
        "Z = np.random.randint(0,2,(50,50))\n",
        "for i in range(100): Z = iterate(Z)\n",
        "print(Z)"
      ]
    },
    {
      "cell_type": "markdown",
      "metadata": {
        "id": "a05SfDhujI2P"
      },
      "source": [
        "#### 89. How to get the n largest values of an array (★★★) \n",
        "(**hint**: np.argsort | np.argpartition)"
      ]
    },
    {
      "cell_type": "code",
      "execution_count": 147,
      "metadata": {
        "id": "PESHFo3ajI2Q",
        "colab": {
          "base_uri": "https://localhost:8080/"
        },
        "outputId": "b0291070-98a6-4b9f-dec2-2b03ea81bc1e"
      },
      "outputs": [
        {
          "output_type": "stream",
          "name": "stdout",
          "text": [
            "[9995 9996 9997 9998 9999]\n",
            "[9998 9999 9997 9996 9995]\n"
          ]
        }
      ],
      "source": [
        "x = np.arange(10000)\n",
        "np.random.shuffle(x)\n",
        "n = 5\n",
        "print (x[np.argsort(x)[-n:]])\n",
        "print (x[np.argpartition(-x,n)[:n]])"
      ]
    },
    {
      "cell_type": "markdown",
      "metadata": {
        "id": "sdYrLK5vjI2Q"
      },
      "source": [
        "#### 90. Given an arbitrary number of vectors, build the cartesian product (every combinations of every item) (★★★) \n",
        "(**hint**: np.indices)"
      ]
    },
    {
      "cell_type": "code",
      "execution_count": 149,
      "metadata": {
        "scrolled": true,
        "id": "cd-hOPmEjI2Q",
        "colab": {
          "base_uri": "https://localhost:8080/"
        },
        "outputId": "5c98f607-a8e5-461e-a1db-42b367a2a668"
      },
      "outputs": [
        {
          "output_type": "stream",
          "name": "stdout",
          "text": [
            "[[1 4 6]\n",
            " [1 4 7]\n",
            " [1 5 6]\n",
            " [1 5 7]\n",
            " [2 4 6]\n",
            " [2 4 7]\n",
            " [2 5 6]\n",
            " [2 5 7]\n",
            " [3 4 6]\n",
            " [3 4 7]\n",
            " [3 5 6]\n",
            " [3 5 7]]\n"
          ]
        }
      ],
      "source": [
        "def cartesian(arrays):\n",
        "    arrays = [np.asarray(a) for a in arrays]\n",
        "    shape = (len(x) for x in arrays)\n",
        "    ix = np.indices(shape, dtype=int)\n",
        "    ix = ix.reshape(len(arrays), -1).T\n",
        "    for n, arr in enumerate(arrays):\n",
        "        ix[:, n] = arrays[n][ix[:, n]]\n",
        "    return ix\n",
        "print (cartesian(([1, 2, 3], [4, 5], [6, 7])))"
      ]
    },
    {
      "cell_type": "markdown",
      "metadata": {
        "id": "MCAi7h_PjI2Q"
      },
      "source": [
        "#### 91. How to create a record array from a regular array? (★★★) \n",
        "(**hint**: np.core.records.fromarrays)"
      ]
    },
    {
      "cell_type": "code",
      "execution_count": 152,
      "metadata": {
        "id": "9AR7oVLUjI2Q",
        "colab": {
          "base_uri": "https://localhost:8080/"
        },
        "outputId": "777cdac5-59e9-4ca0-e3aa-064d778d54f3"
      },
      "outputs": [
        {
          "output_type": "stream",
          "name": "stdout",
          "text": [
            "[(b'Hey', 2.5, 3) (b'Guvi', 3.6, 2)]\n"
          ]
        }
      ],
      "source": [
        "x = np.array([(\"Hey\", 2.5, 3),\n",
        "              (\"Guvi\", 3.6, 2)])\n",
        "R = np.core.records.fromarrays(x.T,\n",
        "                               names='col1, col2, col3',\n",
        "                               formats = 'S8, f8, i8')\n",
        "print(R)"
      ]
    },
    {
      "cell_type": "markdown",
      "metadata": {
        "id": "zjfB3dJljI2R"
      },
      "source": [
        "#### 92. Consider a large vector Z, compute Z to the power of 3 using 3 different methods (★★★) \n",
        "(**hint**: np.power, \\*, np.einsum)"
      ]
    },
    {
      "cell_type": "code",
      "source": [
        "import numpy as np\n",
        "x = np.random.rand(int(5e7))\n",
        "%timeit np.power(x,3)\n",
        "%timeit x*x*x\n",
        "%timeit np.einsum('i,i,i->i',x,x,x)"
      ],
      "metadata": {
        "colab": {
          "base_uri": "https://localhost:8080/"
        },
        "id": "aQ4zwRtq8vpB",
        "outputId": "32f70f40-5d50-4f96-e88e-0faff33a5203"
      },
      "execution_count": 4,
      "outputs": [
        {
          "output_type": "stream",
          "name": "stdout",
          "text": [
            "1 loop, best of 5: 3.74 s per loop\n",
            "10 loops, best of 5: 142 ms per loop\n",
            "10 loops, best of 5: 121 ms per loop\n"
          ]
        }
      ]
    },
    {
      "cell_type": "markdown",
      "metadata": {
        "id": "cVhhpryUjI2R"
      },
      "source": [
        "## 93. Consider two arrays A and B of shape (8,3) and (2,2). How to find rows of A that contain elements of each row of B regardless of the order of the elements in B? (★★★) \n",
        "(**hint**: np.where)"
      ]
    },
    {
      "cell_type": "code",
      "execution_count": 3,
      "metadata": {
        "id": "_ORO3mRjjI2R",
        "colab": {
          "base_uri": "https://localhost:8080/"
        },
        "outputId": "2723cf6e-c830-4926-cdbc-ae65758378c2"
      },
      "outputs": [
        {
          "output_type": "stream",
          "name": "stdout",
          "text": [
            "[1 3 4 5]\n"
          ]
        }
      ],
      "source": [
        "import numpy as np\n",
        "A = np.random.randint(0,5,(8,3))\n",
        "B = np.random.randint(0,5,(2,2))\n",
        "C = (A[..., np.newaxis, np.newaxis] == B)\n",
        "rows = np.where(C.any((3,1)).all(1))[0]\n",
        "print(rows)"
      ]
    },
    {
      "cell_type": "markdown",
      "metadata": {
        "id": "fRJIox8sjI2R"
      },
      "source": [
        "#### 94. Considering a 10x3 matrix, extract rows with unequal values (e.g. \\[2,2,3\\]) (★★★)"
      ]
    },
    {
      "cell_type": "code",
      "execution_count": 7,
      "metadata": {
        "id": "sWGr2zXhjI2S",
        "colab": {
          "base_uri": "https://localhost:8080/"
        },
        "outputId": "0d6a1fd4-d4cc-42c7-fb99-7b7a2e754662"
      },
      "outputs": [
        {
          "output_type": "stream",
          "name": "stdout",
          "text": [
            "[[4 4 4]\n",
            " [2 3 0]\n",
            " [2 0 0]\n",
            " [0 4 2]\n",
            " [4 0 4]\n",
            " [0 1 4]\n",
            " [1 2 3]\n",
            " [0 2 4]\n",
            " [3 0 0]\n",
            " [0 0 0]]\n",
            "[[2 3 0]\n",
            " [2 0 0]\n",
            " [0 4 2]\n",
            " [4 0 4]\n",
            " [0 1 4]\n",
            " [1 2 3]\n",
            " [0 2 4]\n",
            " [3 0 0]]\n",
            "[[2 3 0]\n",
            " [2 0 0]\n",
            " [0 4 2]\n",
            " [4 0 4]\n",
            " [0 1 4]\n",
            " [1 2 3]\n",
            " [0 2 4]\n",
            " [3 0 0]]\n"
          ]
        }
      ],
      "source": [
        "Z = np.random.randint(0,5,(10,3))\n",
        "print(Z)\n",
        "# solution for arrays of all dtypes (including string arrays and record arrays)\n",
        "E = np.all(Z[:,1:] == Z[:,:-1], axis=1)\n",
        "U = Z[~E]\n",
        "print(U)\n",
        "# soluiton for numerical arrays only, will work for any number of columns in Z\n",
        "U = Z[Z.max(axis=1) != Z.min(axis=1),:]\n",
        "print(U)"
      ]
    },
    {
      "cell_type": "markdown",
      "metadata": {
        "id": "r1_GRhZzjI2S"
      },
      "source": [
        "#### 95. Convert a vector of ints into a matrix binary representation (★★★) \n",
        "(**hint**: np.unpackbits)"
      ]
    },
    {
      "cell_type": "code",
      "execution_count": 9,
      "metadata": {
        "id": "vId7nk8jjI2S",
        "colab": {
          "base_uri": "https://localhost:8080/"
        },
        "outputId": "77cf89d9-7843-4880-b351-9a118862f647"
      },
      "outputs": [
        {
          "output_type": "stream",
          "name": "stdout",
          "text": [
            "[[0 0 0 0 0 0 0 0]\n",
            " [0 0 0 0 0 0 0 1]\n",
            " [0 0 0 0 0 0 1 0]\n",
            " [0 0 0 0 0 0 1 1]\n",
            " [0 0 0 0 1 1 1 1]\n",
            " [0 0 0 1 0 0 0 0]\n",
            " [0 0 1 0 0 0 0 0]\n",
            " [0 1 0 0 0 0 0 0]\n",
            " [1 0 0 0 0 0 0 0]]\n"
          ]
        }
      ],
      "source": [
        "I = np.array([0, 1, 2, 3, 15, 16, 32, 64, 128], dtype=np.uint8)\n",
        "print(np.unpackbits(I[:, np.newaxis], axis=1))"
      ]
    },
    {
      "cell_type": "markdown",
      "metadata": {
        "id": "9nqygF0CjI2S"
      },
      "source": [
        "#### 96. Given a two dimensional array, how to extract unique rows? (★★★) \n",
        "(**hint**: np.ascontiguousarray)"
      ]
    },
    {
      "cell_type": "code",
      "execution_count": 10,
      "metadata": {
        "id": "8Hj7r6pyjI2S",
        "colab": {
          "base_uri": "https://localhost:8080/"
        },
        "outputId": "333236d4-d9c2-44c2-fcee-7ab684b8ce0c"
      },
      "outputs": [
        {
          "output_type": "stream",
          "name": "stdout",
          "text": [
            "[[0 0 1]\n",
            " [0 1 0]\n",
            " [0 1 1]\n",
            " [1 0 0]\n",
            " [1 0 1]]\n"
          ]
        }
      ],
      "source": [
        "Z = np.random.randint(0,2,(6,3))\n",
        "T = np.ascontiguousarray(Z).view(np.dtype((np.void, Z.dtype.itemsize * Z.shape[1])))\n",
        "_, idx = np.unique(T, return_index=True)\n",
        "uZ = Z[idx]\n",
        "print(uZ)"
      ]
    },
    {
      "cell_type": "markdown",
      "metadata": {
        "id": "d-E1J3_kjI2S"
      },
      "source": [
        "#### 97. Considering 2 vectors A & B, write the einsum equivalent of inner, outer, sum, and mul function (★★★) \n",
        "(**hint**: np.einsum)"
      ]
    },
    {
      "cell_type": "code",
      "execution_count": 11,
      "metadata": {
        "id": "v1ZZdqpFjI2T",
        "colab": {
          "base_uri": "https://localhost:8080/"
        },
        "outputId": "275a9268-7dfc-481e-f29d-fcb112e5f569"
      },
      "outputs": [
        {
          "output_type": "execute_result",
          "data": {
            "text/plain": [
              "array([[0.24591515, 0.18752893, 0.00207528, 0.28996458, 0.26744452,\n",
              "        0.09865475, 0.1628722 , 0.21312316, 0.2939    , 0.25561557],\n",
              "       [0.52309809, 0.39890193, 0.00441443, 0.6167978 , 0.56889427,\n",
              "        0.20985332, 0.3464534 , 0.45334465, 0.62516902, 0.54373233],\n",
              "       [0.35095367, 0.26762877, 0.0029617 , 0.41381809, 0.38167896,\n",
              "        0.14079347, 0.23244033, 0.30415514, 0.41943446, 0.36479747],\n",
              "       [0.19694034, 0.15018193, 0.00166198, 0.23221719, 0.21418207,\n",
              "        0.07900733, 0.13043567, 0.17067898, 0.23536886, 0.20470889],\n",
              "       [0.63425305, 0.48366601, 0.00535247, 0.74786334, 0.68978062,\n",
              "        0.2544458 , 0.42007251, 0.54967746, 0.75801339, 0.65927194],\n",
              "       [0.65386479, 0.49862144, 0.00551797, 0.77098802, 0.71110932,\n",
              "        0.26231351, 0.43306156, 0.56667403, 0.78145192, 0.67965728],\n",
              "       [0.20644326, 0.15742863, 0.00174218, 0.24342232, 0.22451695,\n",
              "        0.08281966, 0.13672956, 0.17891472, 0.24672606, 0.21458667],\n",
              "       [0.27824496, 0.21218286, 0.00234811, 0.32808546, 0.30260474,\n",
              "        0.11162463, 0.18428458, 0.24114189, 0.33253826, 0.28922067],\n",
              "       [0.58722765, 0.44780558, 0.00495562, 0.69241454, 0.63863824,\n",
              "        0.23558043, 0.38892709, 0.50892274, 0.70181203, 0.61039156],\n",
              "       [0.15066271, 0.11489173, 0.00127144, 0.1776501 , 0.16385293,\n",
              "        0.06044195, 0.09978551, 0.13057233, 0.18006118, 0.15660579]])"
            ]
          },
          "metadata": {},
          "execution_count": 11
        }
      ],
      "source": [
        "A = np.random.uniform(0,1,10)\n",
        "B = np.random.uniform(0,1,10)\n",
        "np.einsum('i->', A)       # np.sum(A)\n",
        "np.einsum('i,i->i', A, B) # A * B\n",
        "np.einsum('i,i', A, B)    # np.inner(A, B)\n",
        "np.einsum('i,j->ij', A, B)    # np.outer(A, B)"
      ]
    },
    {
      "cell_type": "markdown",
      "metadata": {
        "id": "gG5Ie6ktjI2T"
      },
      "source": [
        "#### 98. Considering a path described by two vectors (X,Y), how to sample it using equidistant samples (★★★)? \n",
        "(**hint**: np.cumsum, np.interp)"
      ]
    },
    {
      "cell_type": "code",
      "execution_count": 12,
      "metadata": {
        "collapsed": true,
        "id": "bERgdKHCjI2T"
      },
      "outputs": [],
      "source": [
        "phi = np.arange(0, 10*np.pi, 0.1)\n",
        "a = 1\n",
        "x = a*phi*np.cos(phi)\n",
        "y = a*phi*np.sin(phi)\n",
        "dr = (np.diff(x)**2 + np.diff(y)**2)**.5 # segment lengths\n",
        "r = np.zeros_like(x)\n",
        "r[1:] = np.cumsum(dr)                # integrate path\n",
        "r_int = np.linspace(0, r.max(), 200) # regular spaced path\n",
        "x_int = np.interp(r_int, r, x)       # integrate path\n",
        "y_int = np.interp(r_int, r, y)"
      ]
    },
    {
      "cell_type": "markdown",
      "metadata": {
        "id": "UanDAKvTjI2T"
      },
      "source": [
        "#### 99. Given an integer n and a 2D array X, select from X the rows which can be interpreted as draws from a multinomial distribution with n degrees, i.e., the rows which only contain integers and which sum to n. (★★★) \n",
        "(**hint**: np.logical\\_and.reduce, np.mod)"
      ]
    },
    {
      "cell_type": "code",
      "execution_count": 13,
      "metadata": {
        "id": "GBmkngVajI2T",
        "colab": {
          "base_uri": "https://localhost:8080/"
        },
        "outputId": "877f2916-5811-4641-c4a3-26ba130de491"
      },
      "outputs": [
        {
          "output_type": "stream",
          "name": "stdout",
          "text": [
            "[[2. 0. 1. 1.]]\n"
          ]
        }
      ],
      "source": [
        "X = np.asarray([[1.0, 0.0, 3.0, 8.0],\n",
        "                [2.0, 0.0, 1.0, 1.0],\n",
        "                [1.5, 2.5, 1.0, 0.0]])\n",
        "n = 4\n",
        "M = np.logical_and.reduce(np.mod(X, 1) == 0, axis=-1)\n",
        "M &= (X.sum(axis=-1) == n)\n",
        "print(X[M])"
      ]
    },
    {
      "cell_type": "markdown",
      "metadata": {
        "id": "XQ4Q2VoyjI2T"
      },
      "source": [
        "#### 100. Compute bootstrapped 95% confidence intervals for the mean of a 1D array X (i.e., resample the elements of an array with replacement N times, compute the mean of each sample, and then compute percentiles over the means). (★★★) \n",
        "(**hint**: np.percentile)"
      ]
    },
    {
      "cell_type": "code",
      "execution_count": 14,
      "metadata": {
        "id": "wGxKTxT0jI2U",
        "colab": {
          "base_uri": "https://localhost:8080/"
        },
        "outputId": "840e56eb-d50e-4129-e827-1ca04a589d8e"
      },
      "outputs": [
        {
          "output_type": "stream",
          "name": "stdout",
          "text": [
            "[-0.2328342   0.13748322]\n"
          ]
        }
      ],
      "source": [
        "X = np.random.randn(100) \n",
        "N = 1000 \n",
        "idx = np.random.randint(0, X.size, (N, X.size))\n",
        "means = X[idx].mean(axis=1)\n",
        "confint = np.percentile(means, [2.5, 97.5])\n",
        "print(confint)"
      ]
    }
  ],
  "metadata": {
    "kernelspec": {
      "display_name": "Python 3",
      "language": "python",
      "name": "python3"
    },
    "language_info": {
      "codemirror_mode": {
        "name": "ipython",
        "version": 3
      },
      "file_extension": ".py",
      "mimetype": "text/x-python",
      "name": "python",
      "nbconvert_exporter": "python",
      "pygments_lexer": "ipython3",
      "version": "3.8.3"
    },
    "colab": {
      "name": "100 Numpy_Task2.ipynb",
      "provenance": [],
      "collapsed_sections": [
        "31uM002UjI1s",
        "8UMy6mBvjI1t",
        "xGxlK0oHjI1v",
        "RjR86WvfjI1x",
        "SanSLDdFjI1y",
        "ykPZtt9sjI1y",
        "SI5go0SojI1z",
        "486qodNwjI10",
        "Ekwct8RPjI10",
        "ihPnvoqPjI11",
        "2wSiRUJxjI11",
        "m2nvRcq1jI11",
        "kxE_EeGMjI11",
        "ioQUr9xijI12",
        "_HmWh06CjI12",
        "7yMBR3ihjI12",
        "eUJkHVEKjI13",
        "MfzSfI8cjI13",
        "nhxgiqV0jI13",
        "UStGtO2UjI14",
        "YMTef__MjI14",
        "oO_IG4B1jI14",
        "uQzCIu0-jI15",
        "5Vk1WCAljI15",
        "ompM1UMgjI15",
        "WYEYFtqrjI16",
        "3W3-jWYRjI16",
        "S-2Vk_-TjI16",
        "gkUWK-mvjI17",
        "z61E08r6jI17",
        "4-qY9iKGjI17",
        "UYAqWRDyjI17",
        "8Kjq3BMijI18",
        "vr3Bo4tTjI18",
        "KsaD7mfcjI18",
        "eDmBKTkfjI18",
        "0PLDIu2djI19",
        "wGrASoxijI19",
        "nBTzJ-eIjI19"
      ]
    }
  },
  "nbformat": 4,
  "nbformat_minor": 0
}