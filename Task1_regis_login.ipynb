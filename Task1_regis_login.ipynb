{
  "nbformat": 4,
  "nbformat_minor": 0,
  "metadata": {
    "colab": {
      "name": "TASK1-regis/login.ipynb",
      "provenance": []
    },
    "kernelspec": {
      "name": "python3",
      "display_name": "Python 3"
    },
    "language_info": {
      "name": "python"
    }
  },
  "cells": [
    {
      "cell_type": "code",
      "execution_count": 6,
      "metadata": {
        "id": "DqA48gztlyiD",
        "colab": {
          "base_uri": "https://localhost:8080/"
        },
        "outputId": "f9511652-b9a3-4d29-de0c-decc96fbcd3c"
      },
      "outputs": [
        {
          "output_type": "stream",
          "name": "stdout",
          "text": [
            "Click 1 for Login   Click 2 for Signup  Click 3 for Forgot Password1\n",
            "Enter the mail id:moonsun@yahoo.com\n",
            "Enter the password:Moon#1234\n",
            "Access Granted\n"
          ]
        }
      ],
      "source": [
        "def email_validity(mail):\n",
        "  valid_mail=\"^[a-z]+@[a-z]+\\.[com|in]+\"\n",
        "  if re.search(valid_mail,mail):\n",
        "    return True\n",
        "  else:\n",
        "    print(\"Not a Valid mail id\")\n",
        "    return False\n",
        "    \n",
        "\n",
        "\n",
        "def password_validity(pwd):\n",
        "  pattern=re.compile(r'')\n",
        "  if len(pwd)<6 or len(pwd)>16:\n",
        "    print(\"Password length should be between 6 & 16\")\n",
        "  elif re.search(r'[!@#$%&]',pwd) is None:\n",
        "    print(\"Password should contain atleast one Special Character\")\n",
        "  elif re.search(r'[0-9]',pwd) is None:\n",
        "    print(\"Password should contain atleast one digit\")\n",
        "  elif re.search(r'[A-Z]',pwd) is None:\n",
        "    print(\"Password must have atleast one Uppercase letter\")\n",
        "  elif re.search(r'[a-z]',pwd) is None:\n",
        "    print(\"Password must contain atleast One Lowercase\")\n",
        "  elif re.match(r'[a-z A-Z 0-9 !@#$%&]{6,15}',pwd):\n",
        "    #print(\"Password is Valid\")\n",
        "    return True\n",
        "  else:\n",
        "    print(\"Password Error\")\n",
        "    return False\n",
        "\n",
        "def mail_input():\n",
        "  mail=input(\"Enter the mail id:\")\n",
        "  mail_obj=email_validity(mail)\n",
        "  \n",
        "  while (mail_obj!=True):\n",
        "    mail=input(\"Enter the mail id:\")\n",
        "    mail_obj=email_validity(mail)\n",
        "  return mail\n",
        "  \n",
        "\n",
        "def pwd_input():\n",
        "  pwd=input(\"Enter the password:\")\n",
        "  return pwd\n",
        "\n",
        "\n",
        "def forgot_pwd(df):\n",
        "  mail=mail_input()\n",
        "  index=list(df.Email).index(mail)\n",
        "  org_pass=df.Password[index]\n",
        "  print(\"Your Password is : \",org_pass)\n",
        "\n",
        "def signup(df):\n",
        "  mail=mail_input()\n",
        "  \n",
        "  if mail in df.Email.values:\n",
        "    print(\"Your mail is already registered try login\")\n",
        "    login(df)\n",
        "    \n",
        "  else:\n",
        "    pwd_obj=False\n",
        "    while pwd_obj!=True:\n",
        "      pwd=pwd_input()  \n",
        "      pwd_obj=password_validity(pwd)\n",
        "    \n",
        "    if pwd_obj==True:\n",
        "      df_2_add=pd.DataFrame({\"Email\":[mail],\"Password\":[pwd]})\n",
        "      df=df_2_add.to_csv('/content/database.csv', mode='a', index=False, header=False)\n",
        "      print(\"You are Registered\")\n",
        "\n",
        "def login(df):\n",
        "  mail=mail_input()\n",
        "  if mail not in df.Email.values:\n",
        "    print(\"Not Registered, Try Signup new\")\n",
        "    signup(df)\n",
        "  elif mail in df.Email.values:\n",
        "    pwd=pwd_input()\n",
        "    index=list(df.Email).index(mail)\n",
        "    org_pass=df.Password[index]\n",
        "    while pwd!=org_pass:\n",
        "      print(\"Wrong Password Try Again\")\n",
        "      pwd=pwd_input()\n",
        "    print(\"Access Granted\")\n",
        "\n",
        "def mainn(df):\n",
        "  a=input(\"Click 1 for Login   Click 2 for Signup  Click 3 for Forgot Password\")\n",
        "  if a=='1':\n",
        "    login(df)\n",
        "    return True\n",
        "  elif a=='2':\n",
        "    signup(df)\n",
        "    return True\n",
        "  elif a=='3':\n",
        "    forgot_pwd(df)\n",
        "    return True\n",
        "  else:\n",
        "    print(\"Give a Valid input\")\n",
        "    return False\n",
        "\n",
        "\n",
        "import pandas as pd\n",
        "import re\n",
        "\n",
        "df=pd.read_csv(\"/content/database.csv\")\n",
        "flag=mainn(df)\n",
        "while flag != True:\n",
        "  flag=mainn(df)\n"
      ]
    },
    {
      "cell_type": "code",
      "source": [
        ""
      ],
      "metadata": {
        "id": "La09DtU1blBW"
      },
      "execution_count": null,
      "outputs": []
    }
  ]
}
